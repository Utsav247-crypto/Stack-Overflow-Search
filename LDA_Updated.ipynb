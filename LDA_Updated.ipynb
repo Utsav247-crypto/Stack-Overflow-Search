{
 "cells": [
  {
   "cell_type": "markdown",
   "metadata": {},
   "source": [
    "# LDA"
   ]
  },
  {
   "cell_type": "code",
   "execution_count": 1,
   "metadata": {},
   "outputs": [],
   "source": [
    "import pandas as pd\n",
    "import pickle\n",
    "%matplotlib inline\n",
    "import pandas as pd\n",
    "import numpy as np\n",
    "import nltk\n",
    "from nltk.corpus import stopwords\n",
    "import gensim\n",
    "from gensim.models import LdaModel\n",
    "from gensim import models, corpora, similarities\n",
    "import re\n",
    "from nltk.stem.porter import PorterStemmer\n",
    "import time\n",
    "from nltk import FreqDist\n",
    "from scipy.stats import entropy\n",
    "import matplotlib.pyplot as plt\n",
    "import seaborn as sns\n",
    "sns.set_style(\"darkgrid\")"
   ]
  },
  {
   "cell_type": "code",
   "execution_count": 2,
   "metadata": {},
   "outputs": [],
   "source": [
    "data = pd.read_pickle(\"data_main_clean_v5.pickle\")"
   ]
  },
  {
   "cell_type": "code",
   "execution_count": 3,
   "metadata": {},
   "outputs": [
    {
     "data": {
      "text/html": [
       "<div>\n",
       "<style scoped>\n",
       "    .dataframe tbody tr th:only-of-type {\n",
       "        vertical-align: middle;\n",
       "    }\n",
       "\n",
       "    .dataframe tbody tr th {\n",
       "        vertical-align: top;\n",
       "    }\n",
       "\n",
       "    .dataframe thead th {\n",
       "        text-align: right;\n",
       "    }\n",
       "</style>\n",
       "<table border=\"1\" class=\"dataframe\">\n",
       "  <thead>\n",
       "    <tr style=\"text-align: right;\">\n",
       "      <th></th>\n",
       "      <th>Title</th>\n",
       "      <th>Tokens</th>\n",
       "      <th>Cleaned_Title</th>\n",
       "      <th>Title_Length</th>\n",
       "      <th>Token_Space</th>\n",
       "      <th>LDA</th>\n",
       "    </tr>\n",
       "  </thead>\n",
       "  <tbody>\n",
       "    <tr>\n",
       "      <th>0</th>\n",
       "      <td>implementing boundary value analysis of softwa...</td>\n",
       "      <td>[c++, testing]</td>\n",
       "      <td>implementing boundary value analysis software ...</td>\n",
       "      <td>74</td>\n",
       "      <td>c++ testing</td>\n",
       "      <td>value c++ program testing implementing software</td>\n",
       "    </tr>\n",
       "    <tr>\n",
       "      <th>1</th>\n",
       "      <td>java.lang.noclassdeffounderror: javax/servlet/...</td>\n",
       "      <td>[java, jsp]</td>\n",
       "      <td>java lang noclassdeffounderror javax servlet j...</td>\n",
       "      <td>76</td>\n",
       "      <td>java jsp</td>\n",
       "      <td>java jsp lang servlet</td>\n",
       "    </tr>\n",
       "    <tr>\n",
       "      <th>2</th>\n",
       "      <td>java.sql.sqlexception:[microsoft][odbc driver ...</td>\n",
       "      <td>[java, sql]</td>\n",
       "      <td>java sql sqlexception microsoft odbc driver ma...</td>\n",
       "      <td>79</td>\n",
       "      <td>java sql</td>\n",
       "      <td>java sql index invalid microsoft manager driver</td>\n",
       "    </tr>\n",
       "    <tr>\n",
       "      <th>3</th>\n",
       "      <td>better way to update feed on fb with php sdk</td>\n",
       "      <td>[php]</td>\n",
       "      <td>better way update feed fb php sdk</td>\n",
       "      <td>44</td>\n",
       "      <td>php</td>\n",
       "      <td>php way update sdk better feed</td>\n",
       "    </tr>\n",
       "    <tr>\n",
       "      <th>4</th>\n",
       "      <td>\"sql injection\" issue preventing correct form ...</td>\n",
       "      <td>[php, sql]</td>\n",
       "      <td>sql injection issue preventing correct form su...</td>\n",
       "      <td>62</td>\n",
       "      <td>php sql</td>\n",
       "      <td>- php sql form issue correct</td>\n",
       "    </tr>\n",
       "  </tbody>\n",
       "</table>\n",
       "</div>"
      ],
      "text/plain": [
       "                                               Title          Tokens  \\\n",
       "0  implementing boundary value analysis of softwa...  [c++, testing]   \n",
       "1  java.lang.noclassdeffounderror: javax/servlet/...     [java, jsp]   \n",
       "2  java.sql.sqlexception:[microsoft][odbc driver ...     [java, sql]   \n",
       "3       better way to update feed on fb with php sdk           [php]   \n",
       "4  \"sql injection\" issue preventing correct form ...      [php, sql]   \n",
       "\n",
       "                                       Cleaned_Title  Title_Length  \\\n",
       "0  implementing boundary value analysis software ...            74   \n",
       "1  java lang noclassdeffounderror javax servlet j...            76   \n",
       "2  java sql sqlexception microsoft odbc driver ma...            79   \n",
       "3                  better way update feed fb php sdk            44   \n",
       "4  sql injection issue preventing correct form su...            62   \n",
       "\n",
       "   Token_Space                                              LDA  \n",
       "0  c++ testing  value c++ program testing implementing software  \n",
       "1     java jsp                            java jsp lang servlet  \n",
       "2     java sql  java sql index invalid microsoft manager driver  \n",
       "3          php                   php way update sdk better feed  \n",
       "4      php sql                     - php sql form issue correct  "
      ]
     },
     "execution_count": 3,
     "metadata": {},
     "output_type": "execute_result"
    }
   ],
   "source": [
    "data.head()"
   ]
  },
  {
   "cell_type": "markdown",
   "metadata": {},
   "source": [
    "## Counting the Frequency of words in Cleaned_Title"
   ]
  },
  {
   "cell_type": "code",
   "execution_count": 161,
   "metadata": {},
   "outputs": [],
   "source": [
    "a1=[]\n",
    "for i in range (0,len(data)):\n",
    "    a1.extend(data['Cleaned_Title'][i].split())"
   ]
  },
  {
   "cell_type": "code",
   "execution_count": 163,
   "metadata": {},
   "outputs": [],
   "source": [
    "fdist = FreqDist(a1)"
   ]
  },
  {
   "cell_type": "code",
   "execution_count": 181,
   "metadata": {},
   "outputs": [
    {
     "data": {
      "text/plain": [
       "147515"
      ]
     },
     "execution_count": 181,
     "metadata": {},
     "output_type": "execute_result"
    }
   ],
   "source": [
    "len(fdist)"
   ]
  },
  {
   "cell_type": "code",
   "execution_count": 176,
   "metadata": {},
   "outputs": [
    {
     "data": {
      "text/plain": [
       "nltk.probability.FreqDist"
      ]
     },
     "execution_count": 176,
     "metadata": {},
     "output_type": "execute_result"
    }
   ],
   "source": [
    "type(fdist)"
   ]
  },
  {
   "cell_type": "code",
   "execution_count": 182,
   "metadata": {},
   "outputs": [],
   "source": [
    "a2=pd.DataFrame(list(fdist.items()), columns = [\"Word\",\"Frequency\"]).sort_values(by='Frequency',ascending=False).reset_index()"
   ]
  },
  {
   "cell_type": "code",
   "execution_count": 211,
   "metadata": {},
   "outputs": [
    {
     "data": {
      "text/html": [
       "<div>\n",
       "<style scoped>\n",
       "    .dataframe tbody tr th:only-of-type {\n",
       "        vertical-align: middle;\n",
       "    }\n",
       "\n",
       "    .dataframe tbody tr th {\n",
       "        vertical-align: top;\n",
       "    }\n",
       "\n",
       "    .dataframe thead th {\n",
       "        text-align: right;\n",
       "    }\n",
       "</style>\n",
       "<table border=\"1\" class=\"dataframe\">\n",
       "  <thead>\n",
       "    <tr style=\"text-align: right;\">\n",
       "      <th></th>\n",
       "      <th>index</th>\n",
       "      <th>Word</th>\n",
       "      <th>Frequency</th>\n",
       "    </tr>\n",
       "  </thead>\n",
       "  <tbody>\n",
       "    <tr>\n",
       "      <th>0</th>\n",
       "      <td>123</td>\n",
       "      <td>using</td>\n",
       "      <td>118233</td>\n",
       "    </tr>\n",
       "    <tr>\n",
       "      <th>1</th>\n",
       "      <td>81</td>\n",
       "      <td>file</td>\n",
       "      <td>98588</td>\n",
       "    </tr>\n",
       "    <tr>\n",
       "      <th>2</th>\n",
       "      <td>38</td>\n",
       "      <td>-</td>\n",
       "      <td>96685</td>\n",
       "    </tr>\n",
       "    <tr>\n",
       "      <th>3</th>\n",
       "      <td>124</td>\n",
       "      <td>jquery</td>\n",
       "      <td>75838</td>\n",
       "    </tr>\n",
       "    <tr>\n",
       "      <th>4</th>\n",
       "      <td>50</td>\n",
       "      <td>android</td>\n",
       "      <td>75354</td>\n",
       "    </tr>\n",
       "    <tr>\n",
       "      <th>...</th>\n",
       "      <td>...</td>\n",
       "      <td>...</td>\n",
       "      <td>...</td>\n",
       "    </tr>\n",
       "    <tr>\n",
       "      <th>995</th>\n",
       "      <td>1805</td>\n",
       "      <td>simulator</td>\n",
       "      <td>1468</td>\n",
       "    </tr>\n",
       "    <tr>\n",
       "      <th>996</th>\n",
       "      <td>1759</td>\n",
       "      <td>developer</td>\n",
       "      <td>1468</td>\n",
       "    </tr>\n",
       "    <tr>\n",
       "      <th>997</th>\n",
       "      <td>1778</td>\n",
       "      <td>std</td>\n",
       "      <td>1467</td>\n",
       "    </tr>\n",
       "    <tr>\n",
       "      <th>998</th>\n",
       "      <td>3600</td>\n",
       "      <td>secure</td>\n",
       "      <td>1464</td>\n",
       "    </tr>\n",
       "    <tr>\n",
       "      <th>999</th>\n",
       "      <td>255</td>\n",
       "      <td>displayed</td>\n",
       "      <td>1464</td>\n",
       "    </tr>\n",
       "  </tbody>\n",
       "</table>\n",
       "<p>1000 rows × 3 columns</p>\n",
       "</div>"
      ],
      "text/plain": [
       "     index       Word  Frequency\n",
       "0      123      using     118233\n",
       "1       81       file      98588\n",
       "2       38          -      96685\n",
       "3      124     jquery      75838\n",
       "4       50    android      75354\n",
       "..     ...        ...        ...\n",
       "995   1805  simulator       1468\n",
       "996   1759  developer       1468\n",
       "997   1778        std       1467\n",
       "998   3600     secure       1464\n",
       "999    255  displayed       1464\n",
       "\n",
       "[1000 rows x 3 columns]"
      ]
     },
     "execution_count": 211,
     "metadata": {},
     "output_type": "execute_result"
    }
   ],
   "source": [
    "a2[0:1000]"
   ]
  },
  {
   "cell_type": "markdown",
   "metadata": {},
   "source": [
    "Observation:\n",
    "1. We take top 1000 words as shown in the dataframe and the graph below"
   ]
  },
  {
   "cell_type": "code",
   "execution_count": 215,
   "metadata": {},
   "outputs": [
    {
     "data": {
      "image/png": "[encoded data removed]",
      "text/plain": [
       "<Figure size 432x288 with 1 Axes>"
      ]
     },
     "metadata": {
      "needs_background": "light"
     },
     "output_type": "display_data"
    }
   ],
   "source": [
    "plt.plot(a2['Frequency'][0:1000])\n",
    "plt.title(\"Distribution of number of times tag appeared questions\")\n",
    "plt.grid()\n",
    "plt.xlabel(\"Tag number\")\n",
    "plt.ylabel(\"Number of times tag appeared\")\n",
    "plt.show()"
   ]
  },
  {
   "cell_type": "markdown",
   "metadata": {},
   "source": [
    "Observation:\n",
    "1. We see that there are some words that repeat multiple times.\n",
    "2. There are 1.4M unique words in the Cleaned_Title.\n",
    "3. Not all the words are important and hence we take only the top 1000 words and experiment"
   ]
  },
  {
   "cell_type": "code",
   "execution_count": 220,
   "metadata": {},
   "outputs": [],
   "source": [
    "cleaned1=list(data['Cleaned_Title'])"
   ]
  },
  {
   "cell_type": "code",
   "execution_count": 234,
   "metadata": {},
   "outputs": [],
   "source": [
    "aa=a2['Word'][0:1000]"
   ]
  },
  {
   "cell_type": "code",
   "execution_count": 237,
   "metadata": {},
   "outputs": [],
   "source": [
    "gg=[]\n",
    "ff=[]\n",
    "for k in (range(0,len(cleaned1))):\n",
    "    q=cleaned1[k].split()\n",
    "    for i in aa:\n",
    "        for j in q:\n",
    "            if (i==j):\n",
    "                gg.append(i)\n",
    "    ff.append(gg)\n",
    "    gg=[]"
   ]
  },
  {
   "cell_type": "code",
   "execution_count": 254,
   "metadata": {},
   "outputs": [
    {
     "data": {
      "text/plain": [
       "1396270"
      ]
     },
     "execution_count": 254,
     "metadata": {},
     "output_type": "execute_result"
    }
   ],
   "source": [
    "len(ff)"
   ]
  },
  {
   "cell_type": "code",
   "execution_count": 255,
   "metadata": {},
   "outputs": [
    {
     "data": {
      "text/plain": [
       "1396270"
      ]
     },
     "execution_count": 255,
     "metadata": {},
     "output_type": "execute_result"
    }
   ],
   "source": [
    "len(data)"
   ]
  },
  {
   "cell_type": "code",
   "execution_count": 246,
   "metadata": {},
   "outputs": [],
   "source": [
    "ff1=[]\n",
    "for i in range(0,len(ff)):\n",
    "    ff1.append(' '.join(ff[i])) "
   ]
  },
  {
   "cell_type": "code",
   "execution_count": 256,
   "metadata": {},
   "outputs": [
    {
     "data": {
      "text/plain": [
       "1396270"
      ]
     },
     "execution_count": 256,
     "metadata": {},
     "output_type": "execute_result"
    }
   ],
   "source": [
    "len(ff1)"
   ]
  },
  {
   "cell_type": "code",
   "execution_count": 265,
   "metadata": {},
   "outputs": [],
   "source": [
    "data=data.reset_index()"
   ]
  },
  {
   "cell_type": "code",
   "execution_count": 272,
   "metadata": {},
   "outputs": [],
   "source": [
    "data['LDA']=ff1"
   ]
  },
  {
   "cell_type": "code",
   "execution_count": 273,
   "metadata": {},
   "outputs": [
    {
     "data": {
      "text/html": [
       "<div>\n",
       "<style scoped>\n",
       "    .dataframe tbody tr th:only-of-type {\n",
       "        vertical-align: middle;\n",
       "    }\n",
       "\n",
       "    .dataframe tbody tr th {\n",
       "        vertical-align: top;\n",
       "    }\n",
       "\n",
       "    .dataframe thead th {\n",
       "        text-align: right;\n",
       "    }\n",
       "</style>\n",
       "<table border=\"1\" class=\"dataframe\">\n",
       "  <thead>\n",
       "    <tr style=\"text-align: right;\">\n",
       "      <th></th>\n",
       "      <th>Title</th>\n",
       "      <th>Tokens</th>\n",
       "      <th>Cleaned_Title</th>\n",
       "      <th>Title_Length</th>\n",
       "      <th>Token_Space</th>\n",
       "      <th>LDA</th>\n",
       "    </tr>\n",
       "  </thead>\n",
       "  <tbody>\n",
       "    <tr>\n",
       "      <th>0</th>\n",
       "      <td>implementing boundary value analysis of softwa...</td>\n",
       "      <td>[c++, testing]</td>\n",
       "      <td>implementing boundary value analysis software ...</td>\n",
       "      <td>74</td>\n",
       "      <td>c++ testing</td>\n",
       "      <td>value c++ program testing implementing software</td>\n",
       "    </tr>\n",
       "    <tr>\n",
       "      <th>1</th>\n",
       "      <td>java.lang.noclassdeffounderror: javax/servlet/...</td>\n",
       "      <td>[java, jsp]</td>\n",
       "      <td>java lang noclassdeffounderror javax servlet j...</td>\n",
       "      <td>76</td>\n",
       "      <td>java jsp</td>\n",
       "      <td>java jsp lang servlet</td>\n",
       "    </tr>\n",
       "    <tr>\n",
       "      <th>2</th>\n",
       "      <td>java.sql.sqlexception:[microsoft][odbc driver ...</td>\n",
       "      <td>[java, sql]</td>\n",
       "      <td>java sql sqlexception microsoft odbc driver ma...</td>\n",
       "      <td>79</td>\n",
       "      <td>java sql</td>\n",
       "      <td>java sql index invalid microsoft manager driver</td>\n",
       "    </tr>\n",
       "    <tr>\n",
       "      <th>3</th>\n",
       "      <td>better way to update feed on fb with php sdk</td>\n",
       "      <td>[php]</td>\n",
       "      <td>better way update feed fb php sdk</td>\n",
       "      <td>44</td>\n",
       "      <td>php</td>\n",
       "      <td>php way update sdk better feed</td>\n",
       "    </tr>\n",
       "    <tr>\n",
       "      <th>4</th>\n",
       "      <td>\"sql injection\" issue preventing correct form ...</td>\n",
       "      <td>[php, sql]</td>\n",
       "      <td>sql injection issue preventing correct form su...</td>\n",
       "      <td>62</td>\n",
       "      <td>php sql</td>\n",
       "      <td>- php sql form issue correct</td>\n",
       "    </tr>\n",
       "  </tbody>\n",
       "</table>\n",
       "</div>"
      ],
      "text/plain": [
       "                                               Title          Tokens  \\\n",
       "0  implementing boundary value analysis of softwa...  [c++, testing]   \n",
       "1  java.lang.noclassdeffounderror: javax/servlet/...     [java, jsp]   \n",
       "2  java.sql.sqlexception:[microsoft][odbc driver ...     [java, sql]   \n",
       "3       better way to update feed on fb with php sdk           [php]   \n",
       "4  \"sql injection\" issue preventing correct form ...      [php, sql]   \n",
       "\n",
       "                                       Cleaned_Title  Title_Length  \\\n",
       "0  implementing boundary value analysis software ...            74   \n",
       "1  java lang noclassdeffounderror javax servlet j...            76   \n",
       "2  java sql sqlexception microsoft odbc driver ma...            79   \n",
       "3                  better way update feed fb php sdk            44   \n",
       "4  sql injection issue preventing correct form su...            62   \n",
       "\n",
       "   Token_Space                                              LDA  \n",
       "0  c++ testing  value c++ program testing implementing software  \n",
       "1     java jsp                            java jsp lang servlet  \n",
       "2     java sql  java sql index invalid microsoft manager driver  \n",
       "3          php                   php way update sdk better feed  \n",
       "4      php sql                     - php sql form issue correct  "
      ]
     },
     "execution_count": 273,
     "metadata": {},
     "output_type": "execute_result"
    }
   ],
   "source": [
    "data.head()"
   ]
  },
  {
   "cell_type": "markdown",
   "metadata": {},
   "source": [
    "1. In the new column LDA we have only the words which were present in the top 1000 words.\n",
    "2. We use column LDA to train the LDA model"
   ]
  },
  {
   "cell_type": "code",
   "execution_count": 3,
   "metadata": {},
   "outputs": [],
   "source": [
    "data_main_clean_v5=data"
   ]
  },
  {
   "cell_type": "code",
   "execution_count": null,
   "metadata": {},
   "outputs": [],
   "source": []
  },
  {
   "cell_type": "code",
   "execution_count": 276,
   "metadata": {},
   "outputs": [],
   "source": [
    "data_main_clean_v5.to_pickle('data_main_clean_v5.pickle')"
   ]
  },
  {
   "cell_type": "markdown",
   "metadata": {},
   "source": [
    "1. Storing to a picke file"
   ]
  },
  {
   "cell_type": "code",
   "execution_count": 4,
   "metadata": {},
   "outputs": [],
   "source": [
    "data1=data_main_clean_v5"
   ]
  },
  {
   "cell_type": "markdown",
   "metadata": {},
   "source": [
    "## Preparing to train LDA"
   ]
  },
  {
   "cell_type": "code",
   "execution_count": 5,
   "metadata": {},
   "outputs": [],
   "source": [
    "# Converting each title to comma seperated list \n",
    "b=[]\n",
    "c=[]\n",
    "for i in range(0,len(data1)):\n",
    "    a=data1['LDA'][i].split()\n",
    "    a=list(a)\n",
    "    c.append(a)"
   ]
  },
  {
   "cell_type": "code",
   "execution_count": 6,
   "metadata": {},
   "outputs": [
    {
     "data": {
      "text/plain": [
       "1396270"
      ]
     },
     "execution_count": 6,
     "metadata": {},
     "output_type": "execute_result"
    }
   ],
   "source": [
    "len(c)"
   ]
  },
  {
   "cell_type": "code",
   "execution_count": 8,
   "metadata": {},
   "outputs": [
    {
     "data": {
      "text/plain": [
       "[[(0, 1), (1, 1), (2, 1), (3, 1), (4, 1), (5, 1)],\n",
       " [(6, 1), (7, 1), (8, 1), (9, 1)],\n",
       " [(6, 1), (10, 1), (11, 1), (12, 1), (13, 1), (14, 1), (15, 1)],\n",
       " [(16, 1), (17, 1), (18, 1), (19, 1), (20, 1), (21, 1)],\n",
       " [(15, 1), (18, 1), (22, 1), (23, 1), (24, 1), (25, 1)],\n",
       " [(26, 1), (27, 1), (28, 1)],\n",
       " [(29, 1), (30, 1), (31, 1), (32, 1), (33, 1), (34, 1)],\n",
       " [(29, 1), (35, 1), (36, 1)],\n",
       " [(37, 1)],\n",
       " [(35, 1), (38, 1), (39, 1), (40, 1), (41, 1)]]"
      ]
     },
     "execution_count": 8,
     "metadata": {},
     "output_type": "execute_result"
    }
   ],
   "source": [
    "dictionary = gensim.corpora.Dictionary(c)\n",
    "bow_corpus = [dictionary.doc2bow(doc) for doc in c]\n",
    "bow_corpus[0:10]"
   ]
  },
  {
   "cell_type": "markdown",
   "metadata": {},
   "source": [
    "1. We created a dictionary of the words from the title.\n",
    "2. Since, LDA requires numeric positions to perform operations, we create bow_corpus that contain positions of the words."
   ]
  },
  {
   "cell_type": "markdown",
   "metadata": {},
   "source": [
    "# LDA USING BOW"
   ]
  },
  {
   "cell_type": "markdown",
   "metadata": {},
   "source": [
    "## Trying to experiment with topics=10 and chunksize=20"
   ]
  },
  {
   "cell_type": "code",
   "execution_count": 318,
   "metadata": {},
   "outputs": [],
   "source": [
    "def train_lda(data,num_topics,chunksize):\n",
    "    \"\"\"\n",
    "    This function trains the lda model\n",
    "    We setup parameters like number of topics, the chunksize to use in Hoffman method\n",
    "    We also do 2 passes of the data since this is a small dataset, so we want the distributions to stabilize\n",
    "    \"\"\"\n",
    "    num_topics = num_topics\n",
    "    chunksize = chunksize\n",
    "    dictionary = corpora.Dictionary(c)\n",
    "    corpus = [dictionary.doc2bow(doc) for doc in c]\n",
    "    t1 = time.time()\n",
    "    # low alpha means each document is only represented by a small number of topics, and vice versa\n",
    "    # low eta means each topic is only represented by a small number of words, and vice versa\n",
    "    lda = LdaModel(corpus=corpus, num_topics=num_topics, id2word=dictionary,\n",
    "                   alpha=1e-2, eta=0.5e-2, chunksize=chunksize, minimum_probability=0.0, passes=2)\n",
    "    t2 = time.time()\n",
    "    print(\"Time to train LDA model on \", len(c), \"articles: \", (t2-t1)/60, \"min\")\n",
    "    return dictionary,corpus,lda"
   ]
  },
  {
   "cell_type": "code",
   "execution_count": 319,
   "metadata": {},
   "outputs": [
    {
     "name": "stdout",
     "output_type": "stream",
     "text": [
      "Time to train LDA model on  1396270 articles:  15.599941166241964 min\n"
     ]
    }
   ],
   "source": [
    "dictionary,corpus,lda = train_lda(c,num_topics=10,chunksize=20)"
   ]
  },
  {
   "cell_type": "markdown",
   "metadata": {},
   "source": [
    "1. Trained LDA with number of topics as 10 and chunksize=20"
   ]
  },
  {
   "cell_type": "code",
   "execution_count": 320,
   "metadata": {},
   "outputs": [
    {
     "data": {
      "text/plain": [
       "[('ajax', 0.36808193),\n",
       " ('user', 0.32635704),\n",
       " ('name', 0.30547762),\n",
       " ('explorer', 8.359923e-08),\n",
       " ('mod', 8.359923e-08)]"
      ]
     },
     "execution_count": 320,
     "metadata": {},
     "output_type": "execute_result"
    }
   ],
   "source": [
    "# Top 5 relevent words to the 4th topic\n",
    "lda.show_topic(topicid=4, topn=5)"
   ]
  },
  {
   "cell_type": "markdown",
   "metadata": {},
   "source": [
    "### Now we try to test and see the recomended questions"
   ]
  },
  {
   "cell_type": "code",
   "execution_count": 321,
   "metadata": {},
   "outputs": [],
   "source": [
    "# Selecting the 0th index datapoint for testing \n",
    "random_article_index = 0\n",
    "bow = dictionary.doc2bow(a.iloc[random_article_index,0]) # This returns the position of the words\n",
    "new_doc_distribution = np.array([tup[1] for tup in lda.get_document_topics(bow=bow)]) #This returns the distribution or values for each topic"
   ]
  },
  {
   "cell_type": "code",
   "execution_count": 323,
   "metadata": {},
   "outputs": [
    {
     "data": {
      "text/plain": [
       "array([0.0019608 , 0.0019608 , 0.0019608 , 0.0019608 , 0.0019608 ,\n",
       "       0.0019608 , 0.98235273, 0.0019608 , 0.0019608 , 0.0019608 ],\n",
       "      dtype=float32)"
      ]
     },
     "execution_count": 323,
     "metadata": {},
     "output_type": "execute_result"
    }
   ],
   "source": [
    "new_doc_distribution"
   ]
  },
  {
   "cell_type": "markdown",
   "metadata": {},
   "source": [
    "### From this we can see that the 0th index point is very related to the 6th indexed topic. Same thing is displayed in the graph below,"
   ]
  },
  {
   "cell_type": "code",
   "execution_count": 329,
   "metadata": {},
   "outputs": [
    {
     "data": {
      "image/png": "[encoded data removed]",
      "text/plain": [
       "<Figure size 864x432 with 1 Axes>"
      ]
     },
     "metadata": {
      "needs_background": "light"
     },
     "output_type": "display_data"
    }
   ],
   "source": [
    "fig, ax = plt.subplots(figsize=(12,6));\n",
    "# the histogram of the data\n",
    "patches = ax.bar(np.arange(len(new_doc_distribution)), new_doc_distribution)\n",
    "ax.set_xlabel('Topic ID', fontsize=15)\n",
    "ax.set_ylabel('Topic Contribution', fontsize=15)\n",
    "ax.set_title(\"Topic Distribution for Article \" + str(random_article_index), fontsize=20)\n",
    "ax.set_xticks(np.linspace(10,100,10))\n",
    "fig.tight_layout()\n",
    "plt.show()"
   ]
  },
  {
   "cell_type": "code",
   "execution_count": 324,
   "metadata": {},
   "outputs": [
    {
     "data": {
      "text/plain": [
       "(1396270, 10)"
      ]
     },
     "execution_count": 324,
     "metadata": {},
     "output_type": "execute_result"
    }
   ],
   "source": [
    "#This returns the distributions of all the points as per the 10 topics\n",
    "doc_topic_dist = np.array([[tup[1] for tup in lst] for lst in lda[corpus]])\n",
    "doc_topic_dist.shape"
   ]
  },
  {
   "cell_type": "code",
   "execution_count": 7,
   "metadata": {},
   "outputs": [],
   "source": [
    "def jensen_shannon(query, matrix):\n",
    "    \"\"\"\n",
    "    This function implements a Jensen-Shannon similarity\n",
    "    between the input query (an LDA topic distribution for a document)\n",
    "    and the entire corpus of topic distributions.\n",
    "    It returns an array of length M where M is the number of documents in the corpus\n",
    "    \"\"\"\n",
    "    # lets keep with the p,q notation above\n",
    "    p = query[None,:].T # take transpose\n",
    "    q = matrix.T # transpose matrix\n",
    "    m = 0.5*(p + q)\n",
    "    return np.sqrt(0.5*(entropy(p,m) + entropy(q,m)))"
   ]
  },
  {
   "cell_type": "code",
   "execution_count": 8,
   "metadata": {},
   "outputs": [],
   "source": [
    "def get_most_similar_documents(query,matrix,k=10):\n",
    "    \"\"\"\n",
    "    This function implements the Jensen-Shannon distance above\n",
    "    and retuns the top k indices of the smallest jensen shannon distances\n",
    "    \"\"\"\n",
    "    sims = jensen_shannon(query,matrix) # list of jensen shannon distances\n",
    "    return sims.argsort()[:k] # the top k positional index of the smallest Jensen Shannon distances\n"
   ]
  },
  {
   "cell_type": "code",
   "execution_count": 7,
   "metadata": {},
   "outputs": [
    {
     "name": "stdout",
     "output_type": "stream",
     "text": [
      "Query point is 'implementing boundary value analysis software testing c++ program'\n"
     ]
    }
   ],
   "source": [
    "print(\"Query point is 'implementing boundary value analysis software testing c++ program'\")"
   ]
  },
  {
   "cell_type": "code",
   "execution_count": 17,
   "metadata": {},
   "outputs": [
    {
     "name": "stdout",
     "output_type": "stream",
     "text": [
      "TIME TAKEN TO FETCH RESULTS\n",
      "1.1502817386143253 seconds\n"
     ]
    }
   ],
   "source": [
    "import time\n",
    "start_time = time.time()\n",
    "\n",
    "# Selecting the 0th index datapoint for testing \n",
    "random_article_index = 0\n",
    "bow = dictionary.doc2bow(a.iloc[random_article_index,0]) # This returns the position of the words\n",
    "new_doc_distribution = np.array([tup[1] for tup in lda.get_document_topics(bow=bow)]) #This returns the distribution or values for each topic\n",
    "\n",
    "#This returns the indices for the closely related distributions\n",
    "indice=get_most_similar_documents(new_doc_distribution,doc_topic_dist,k=10)\n",
    "print('TIME TAKEN TO FETCH RESULTS')\n",
    "print(time.time()-start_time,'seconds')"
   ]
  },
  {
   "cell_type": "code",
   "execution_count": 328,
   "metadata": {},
   "outputs": [
    {
     "name": "stdout",
     "output_type": "stream",
     "text": [
      "implementing boundary value analysis software testing c++ program\n",
      "testing c++ program testing classes normally used classes\n",
      "messaging service java c++ jms java java\n",
      "would read image data program like image magick java\n",
      "possible use java ee java java se program\n",
      "conversion c++ java returning one value java\n",
      "java awt image databufferint cannot cast java awt image databufferbyte\n",
      "java awt image databufferbyte cannot cast java awt image databufferint\n",
      "execute c++ console program c++ program\n",
      "calling function c++ program function declared c++ program\n"
     ]
    }
   ],
   "source": [
    "# Printing the resuts\n",
    "for i in indice:\n",
    "    print(data['Cleaned_Title'][i])"
   ]
  },
  {
   "cell_type": "markdown",
   "metadata": {},
   "source": [
    "## Trying to experiment with topics=30 and chunksize=50"
   ]
  },
  {
   "cell_type": "code",
   "execution_count": 9,
   "metadata": {},
   "outputs": [],
   "source": [
    "def train_lda(data,num_topics,chunksize):\n",
    "    \"\"\"\n",
    "    This function trains the lda model\n",
    "    We setup parameters like number of topics, the chunksize to use in Hoffman method\n",
    "    We also do 2 passes of the data since this is a small dataset, so we want the distributions to stabilize\n",
    "    \"\"\"\n",
    "    num_topics = num_topics\n",
    "    chunksize = chunksize\n",
    "    dictionary = corpora.Dictionary(c)\n",
    "    corpus = [dictionary.doc2bow(doc) for doc in c]\n",
    "    t1 = time.time()\n",
    "    # low alpha means each document is only represented by a small number of topics, and vice versa\n",
    "    # low eta means each topic is only represented by a small number of words, and vice versa\n",
    "    lda = LdaModel(corpus=corpus, num_topics=num_topics, id2word=dictionary,\n",
    "                   alpha=1e-2, eta=0.5e-2, chunksize=chunksize, minimum_probability=0.0, passes=2)\n",
    "    t2 = time.time()\n",
    "    print(\"Time to train LDA model on \", len(c), \"articles: \", (t2-t1)/60, \"min\")\n",
    "    return dictionary,corpus,lda"
   ]
  },
  {
   "cell_type": "code",
   "execution_count": 10,
   "metadata": {},
   "outputs": [
    {
     "name": "stdout",
     "output_type": "stream",
     "text": [
      "Time to train LDA model on  1396270 articles:  10.569631048043568 min\n"
     ]
    }
   ],
   "source": [
    "dictionary,corpus,lda = train_lda(c,num_topics=30,chunksize=50)"
   ]
  },
  {
   "cell_type": "code",
   "execution_count": 18,
   "metadata": {},
   "outputs": [],
   "source": [
    "random_article_index = 0\n",
    "bow = dictionary.doc2bow(c[0])\n",
    "new_doc_distribution = np.array([tup[1] for tup in lda.get_document_topics(bow=bow)])"
   ]
  },
  {
   "cell_type": "code",
   "execution_count": 20,
   "metadata": {},
   "outputs": [
    {
     "data": {
      "text/plain": [
       "[(0, 1), (1, 1), (2, 1), (3, 1), (4, 1), (5, 1)]"
      ]
     },
     "execution_count": 20,
     "metadata": {},
     "output_type": "execute_result"
    }
   ],
   "source": [
    "bow"
   ]
  },
  {
   "cell_type": "code",
   "execution_count": 11,
   "metadata": {},
   "outputs": [
    {
     "data": {
      "text/plain": [
       "(1396270, 30)"
      ]
     },
     "execution_count": 11,
     "metadata": {},
     "output_type": "execute_result"
    }
   ],
   "source": [
    "doc_topic_dist = np.array([[tup[1] for tup in lst] for lst in lda[corpus]])\n",
    "doc_topic_dist.shape"
   ]
  },
  {
   "cell_type": "code",
   "execution_count": 336,
   "metadata": {},
   "outputs": [
    {
     "data": {
      "image/png": "[encoded data removed]",
      "text/plain": [
       "<Figure size 864x432 with 1 Axes>"
      ]
     },
     "metadata": {
      "needs_background": "light"
     },
     "output_type": "display_data"
    }
   ],
   "source": [
    "fig, ax = plt.subplots(figsize=(12,6));\n",
    "# the histogram of the data\n",
    "patches = ax.bar(np.arange(len(new_doc_distribution)), new_doc_distribution)\n",
    "ax.set_xlabel('Topic ID', fontsize=15)\n",
    "ax.set_ylabel('Topic Contribution', fontsize=15)\n",
    "ax.set_title(\"Topic Distribution for Article \" + str(random_article_index), fontsize=20)\n",
    "ax.set_xticks(np.linspace(10,100,10))\n",
    "fig.tight_layout()\n",
    "plt.show()"
   ]
  },
  {
   "cell_type": "markdown",
   "metadata": {},
   "source": [
    "#### We see 3 topics out of 30 are contributing to the 0th query point"
   ]
  },
  {
   "cell_type": "code",
   "execution_count": 8,
   "metadata": {},
   "outputs": [
    {
     "name": "stdout",
     "output_type": "stream",
     "text": [
      "Query point is 'implementing boundary value analysis software testing c++ program'\n"
     ]
    }
   ],
   "source": [
    "print(\"Query point is 'implementing boundary value analysis software testing c++ program'\")"
   ]
  },
  {
   "cell_type": "code",
   "execution_count": 19,
   "metadata": {},
   "outputs": [
    {
     "name": "stdout",
     "output_type": "stream",
     "text": [
      "TIME TAKEN TO FETCH RESULTS\n",
      "1.302882182339201 seconds\n"
     ]
    }
   ],
   "source": [
    "import time\n",
    "start_time = time.time()\n",
    "\n",
    "# Selecting the 0th index datapoint for testing \n",
    "random_article_index = 0\n",
    "bow = dictionary.doc2bow(a.iloc[random_article_index,0]) # This returns the position of the words\n",
    "new_doc_distribution = np.array([tup[1] for tup in lda.get_document_topics(bow=bow)]) #This returns the distribution or values for each topic\n",
    "\n",
    "#This returns the indices for the closely related distributions\n",
    "indice=get_most_similar_documents(new_doc_distribution,doc_topic_dist,k=10)\n",
    "print('TIME TAKEN TO FETCH RESULTS')\n",
    "print(time.time()-start_time,'seconds')"
   ]
  },
  {
   "cell_type": "code",
   "execution_count": 335,
   "metadata": {},
   "outputs": [
    {
     "name": "stdout",
     "output_type": "stream",
     "text": [
      "implementing boundary value analysis software testing c++ program\n",
      "parse error syntax error unexpected function line 10 help\n",
      "c++ cli keydown raise error error c3767 candidate function accessible\n",
      "c++ program gives error value initiated\n",
      "calling function c++ program function declared c++ program\n",
      "html5 database value stay close browser\n",
      "missing value true false needed error r\n",
      "error r missing value true false needed\n",
      "show content many line database one field value\n",
      "c++ undefined reference function error\n"
     ]
    }
   ],
   "source": [
    "for i in indice:\n",
    "    print(data['Cleaned_Title'][i])"
   ]
  },
  {
   "cell_type": "markdown",
   "metadata": {},
   "source": [
    "## Query by Applied AI"
   ]
  },
  {
   "cell_type": "code",
   "execution_count": 12,
   "metadata": {},
   "outputs": [],
   "source": [
    "def Recomend(string):  \n",
    "    stopwords_1 = stopwords.words(\"english\")\n",
    "    a=string\n",
    "    sent_1=a.lower().strip()\n",
    "    sent_1 = re.sub(r\"won\\'t\", \"will not\", sent_1)\n",
    "    sent_1 = re.sub(r\"can\\'t\", \"can not\", sent_1)\n",
    "    sent_1 = re.sub(r\"n\\'t\", \" not\", sent_1)\n",
    "    sent_1 = re.sub(r\"\\'re\", \" are\", sent_1)\n",
    "    sent_1 = re.sub(r\"\\'s\", \" is\", sent_1)\n",
    "    sent_1 = re.sub(r\"\\'d\", \" would\", sent_1)\n",
    "    sent_1 = re.sub(r\"\\'ll\", \" will\", sent_1)\n",
    "    sent_1 = re.sub(r\"\\'t\", \" not\", sent_1)\n",
    "    sent_1 = re.sub(r\"\\'ve\", \" have\", sent_1)\n",
    "    sent_1 = re.sub(r\"\\'m\", \" am\", sent_1)\n",
    "    sent_1 = re.sub('[^A-Za-z0-9-+]+', ' ', sent_1)\n",
    "    sent_1 = ' '.join(e for e in sent_1.split() if e not in stopwords_1)\n",
    "    sent_1=sent_1.lower().strip()\n",
    "    print('QUERY ENTERED BY THE USER')\n",
    "    print(a)\n",
    "    print('\\n')\n",
    "    \n",
    "    query=sent_1.split()\n",
    "    bow = dictionary.doc2bow(query) # This returns the position of the words\n",
    "    new_doc_distribution = np.array([tup[1] for tup in lda.get_document_topics(bow=bow)]) #This returns the distribution or values for each topic\n",
    "    indices=get_most_similar_documents(new_doc_distribution,doc_topic_dist,k=10)\n",
    "    \n",
    "    \n",
    "    print('RECOMENDED SIMILAR QUESTIONS')\n",
    "    g=0\n",
    "    for i in indices:\n",
    "        g=g+1\n",
    "        print(g ,'th question','\"',data_main_clean_v5['Cleaned_Title'][i],'\"')\n",
    "        print('\\n')"
   ]
  },
  {
   "cell_type": "markdown",
   "metadata": {},
   "source": [
    "### Query 1- how to create a linked list in python"
   ]
  },
  {
   "cell_type": "code",
   "execution_count": 17,
   "metadata": {},
   "outputs": [
    {
     "name": "stdout",
     "output_type": "stream",
     "text": [
      "QUERY ENTERED BY THE USER\n",
      "how to create a linked list in python\n",
      "\n",
      "\n",
      "RECOMENDED SIMILAR QUESTIONS\n",
      "1 th question \" open-source image processing library supports high level 3d algorithms \"\n",
      "\n",
      "\n",
      "2 th question \" nstabview visible image view \"\n",
      "\n",
      "\n",
      "3 th question \" extract image embedded resources temp folder execute \"\n",
      "\n",
      "\n",
      "4 th question \" iconanchor infowindowanchor given image \"\n",
      "\n",
      "\n",
      "5 th question \" differences python numpy ndarray list datatypes \"\n",
      "\n",
      "\n",
      "6 th question \" stripes read list added parameter redirectresolution \"\n",
      "\n",
      "\n",
      "7 th question \" options ininputshareable used downloading image internet \"\n",
      "\n",
      "\n",
      "8 th question \" use tdd image rendering project \"\n",
      "\n",
      "\n",
      "9 th question \" wpf- show cropped region imagesource image control \"\n",
      "\n",
      "\n",
      "10 th question \" cclabelbmfont crashing due missing image message \"\n",
      "\n",
      "\n",
      "TIME TAKEN TO FETCH RESULTS\n",
      "2.5970544815063477 seconds\n"
     ]
    },
    {
     "name": "stderr",
     "output_type": "stream",
     "text": [
      "C:\\Users\\Utsav\\Miniconda3\\lib\\site-packages\\ipykernel_launcher.py:12: RuntimeWarning: invalid value encountered in sqrt\n",
      "  if sys.path[0] == '':\n"
     ]
    }
   ],
   "source": [
    "import time\n",
    "start_time = time.time()\n",
    "Recomend('how to create a linked list in python')\n",
    "print('TIME TAKEN TO FETCH RESULTS')\n",
    "print(time.time()-start_time,'seconds')"
   ]
  },
  {
   "cell_type": "markdown",
   "metadata": {},
   "source": [
    "### Query 2- LSTM with keras"
   ]
  },
  {
   "cell_type": "code",
   "execution_count": 19,
   "metadata": {},
   "outputs": [
    {
     "name": "stdout",
     "output_type": "stream",
     "text": [
      "QUERY ENTERED BY THE USER\n",
      "LSTM with keras\n",
      "\n",
      "\n",
      "RECOMENDED SIMILAR QUESTIONS\n",
      "1 th question \" disable version control features qt creator \"\n",
      "\n",
      "\n",
      "2 th question \" problem getting tooltip refresh properly itemrenderer flex \"\n",
      "\n",
      "\n",
      "3 th question \" errors crawling content sources sharepoint 2010 \"\n",
      "\n",
      "\n",
      "4 th question \" purpose boolean switch statements javascript \"\n",
      "\n",
      "\n",
      "5 th question \" errors computing psd inside parfor loops loops \"\n",
      "\n",
      "\n",
      "6 th question \" problem hosting wcf service iis express \"\n",
      "\n",
      "\n",
      "7 th question \" errors logged http https response 200 \"\n",
      "\n",
      "\n",
      "8 th question \" errors reported iphone mfmailcomposeviewcontroller safe \"\n",
      "\n",
      "\n",
      "9 th question \" problem imitating vs output window textbox wpf textbox \"\n",
      "\n",
      "\n",
      "10 th question \" problem getting tomcat start reboot \"\n",
      "\n",
      "\n",
      "TIME TAKEN TO FETCH RESULTS\n",
      "2.4983396530151367 seconds\n"
     ]
    }
   ],
   "source": [
    "import time\n",
    "start_time = time.time()\n",
    "Recomend('LSTM with keras')\n",
    "print('TIME TAKEN TO FETCH RESULTS')\n",
    "print(time.time()-start_time,'seconds')"
   ]
  },
  {
   "cell_type": "markdown",
   "metadata": {},
   "source": [
    "## Trying to experiment with topics=100 and chunksize=100"
   ]
  },
  {
   "cell_type": "code",
   "execution_count": 337,
   "metadata": {},
   "outputs": [],
   "source": [
    "def train_lda(data,num_topics,chunksize):\n",
    "    \"\"\"\n",
    "    This function trains the lda model\n",
    "    We setup parameters like number of topics, the chunksize to use in Hoffman method\n",
    "    We also do 2 passes of the data since this is a small dataset, so we want the distributions to stabilize\n",
    "    \"\"\"\n",
    "    num_topics = num_topics\n",
    "    chunksize = chunksize\n",
    "    dictionary = corpora.Dictionary(c)\n",
    "    corpus = [dictionary.doc2bow(doc) for doc in c]\n",
    "    t1 = time.time()\n",
    "    # low alpha means each document is only represented by a small number of topics, and vice versa\n",
    "    # low eta means each topic is only represented by a small number of words, and vice versa\n",
    "    lda = LdaModel(corpus=corpus, num_topics=num_topics, id2word=dictionary,\n",
    "                   alpha=1e-2, eta=0.5e-2, chunksize=chunksize, minimum_probability=0.0, passes=2)\n",
    "    t2 = time.time()\n",
    "    print(\"Time to train LDA model on \", len(c), \"articles: \", (t2-t1)/60, \"min\")\n",
    "    return dictionary,corpus,lda"
   ]
  },
  {
   "cell_type": "code",
   "execution_count": 338,
   "metadata": {},
   "outputs": [
    {
     "name": "stdout",
     "output_type": "stream",
     "text": [
      "Time to train LDA model on  1396270 articles:  12.829964486757914 min\n"
     ]
    }
   ],
   "source": [
    "dictionary,corpus,lda = train_lda(c,num_topics=100,chunksize=100)"
   ]
  },
  {
   "cell_type": "code",
   "execution_count": 339,
   "metadata": {},
   "outputs": [
    {
     "data": {
      "text/plain": [
       "(1396270, 100)"
      ]
     },
     "execution_count": 339,
     "metadata": {},
     "output_type": "execute_result"
    }
   ],
   "source": [
    "random_article_index = 0\n",
    "bow = dictionary.doc2bow(a.iloc[random_article_index,0])\n",
    "new_doc_distribution = np.array([tup[1] for tup in lda.get_document_topics(bow=bow)])\n",
    "\n",
    "doc_topic_dist = np.array([[tup[1] for tup in lst] for lst in lda[corpus]])\n",
    "doc_topic_dist.shape"
   ]
  },
  {
   "cell_type": "code",
   "execution_count": 342,
   "metadata": {},
   "outputs": [
    {
     "data": {
      "image/png": "[encoded data removed]",
      "text/plain": [
       "<Figure size 864x432 with 1 Axes>"
      ]
     },
     "metadata": {
      "needs_background": "light"
     },
     "output_type": "display_data"
    }
   ],
   "source": [
    "fig, ax = plt.subplots(figsize=(12,6));\n",
    "# the histogram of the data\n",
    "patches = ax.bar(np.arange(len(new_doc_distribution)), new_doc_distribution)\n",
    "ax.set_xlabel('Topic ID', fontsize=15)\n",
    "ax.set_ylabel('Topic Contribution', fontsize=15)\n",
    "ax.set_title(\"Topic Distribution for Article \" + str(random_article_index), fontsize=20)\n",
    "ax.set_xticks(np.linspace(10,100,10))\n",
    "fig.tight_layout()\n",
    "plt.show()"
   ]
  },
  {
   "cell_type": "code",
   "execution_count": 9,
   "metadata": {},
   "outputs": [
    {
     "name": "stdout",
     "output_type": "stream",
     "text": [
      "Query point is 'implementing boundary value analysis software testing c++ program'\n"
     ]
    }
   ],
   "source": [
    "print(\"Query point is 'implementing boundary value analysis software testing c++ program'\")"
   ]
  },
  {
   "cell_type": "code",
   "execution_count": 18,
   "metadata": {},
   "outputs": [
    {
     "name": "stdout",
     "output_type": "stream",
     "text": [
      "TIME TAKEN TO FETCH RESULTS\n",
      "1.3962362328607235 seconds\n"
     ]
    }
   ],
   "source": [
    "import time\n",
    "start_time = time.time()\n",
    "\n",
    "# Selecting the 0th index datapoint for testing \n",
    "random_article_index = 0\n",
    "bow = dictionary.doc2bow(a.iloc[random_article_index,0]) # This returns the position of the words\n",
    "new_doc_distribution = np.array([tup[1] for tup in lda.get_document_topics(bow=bow)]) #This returns the distribution or values for each topic\n",
    "\n",
    "#This returns the indices for the closely related distributions\n",
    "indice=get_most_similar_documents(new_doc_distribution,doc_topic_dist,k=10)\n",
    "print('TIME TAKEN TO FETCH RESULTS')\n",
    "print(time.time()-start_time,'seconds')"
   ]
  },
  {
   "cell_type": "code",
   "execution_count": 341,
   "metadata": {},
   "outputs": [
    {
     "name": "stdout",
     "output_type": "stream",
     "text": [
      "implementing boundary value analysis software testing c++ program\n",
      "execute c++ console program c++ program\n",
      "testing c++ program testing classes normally used classes\n",
      "writing program open use another program audio program\n",
      "cache hit miss value c c++ program\n",
      "read trackbar control value c++ winapi program\n",
      "changing value stdout c++ program\n",
      "advantages c++ cli formerly managed c++ standard c++\n",
      "compiling small c++ program visual c++ express\n",
      "c++ program gives error value initiated\n"
     ]
    }
   ],
   "source": [
    "for i in indice:\n",
    "    print(data['Cleaned_Title'][i])"
   ]
  },
  {
   "cell_type": "markdown",
   "metadata": {},
   "source": [
    "Observation:\n",
    "1. Trying out different number of topics gave us different results.\n",
    "2. The model with 30 and 100 topics works good as it is recomending results with C++ and testing kind of resuts within them.\n",
    "3. Test time complexity is quite under control due to consideration of only top 1000 words."
   ]
  },
  {
   "cell_type": "code",
   "execution_count": null,
   "metadata": {},
   "outputs": [],
   "source": []
  },
  {
   "cell_type": "markdown",
   "metadata": {},
   "source": [
    "# LDA USING TFIDF"
   ]
  },
  {
   "cell_type": "markdown",
   "metadata": {},
   "source": [
    "### Training TFIDF LDA with num_topics as 10 and chunksize as 20"
   ]
  },
  {
   "cell_type": "code",
   "execution_count": 56,
   "metadata": {},
   "outputs": [],
   "source": [
    "dictionary = gensim.corpora.Dictionary(c) #Building Dictionary\n",
    "bow_corpus = [dictionary.doc2bow(doc) for doc in c] #BOW corpus to give positions\n",
    "tfidf = models.TfidfModel(bow_corpus) #This internally builds a tfidf model based on BOW_CORPUS\n",
    "corpus_tfidf = tfidf[bow_corpus] #This returns each sentence representations as (word_position,TFIDF of that word)"
   ]
  },
  {
   "cell_type": "code",
   "execution_count": 57,
   "metadata": {},
   "outputs": [
    {
     "name": "stdout",
     "output_type": "stream",
     "text": [
      "[(68, 0.2547659112061909), (182, 0.6780021538465144), (320, 0.5362615646917638), (444, 0.3099085293797901), (550, 0.30296476283350743)]\n"
     ]
    }
   ],
   "source": [
    "print(corpus_tfidf[1000])"
   ]
  },
  {
   "cell_type": "code",
   "execution_count": 58,
   "metadata": {},
   "outputs": [],
   "source": [
    "def train_lda(data,num_topics,chunksize):\n",
    "    \"\"\"\n",
    "    This function trains the lda model\n",
    "    We setup parameters like number of topics, the chunksize to use in Hoffman method\n",
    "    We also do 2 passes of the data since this is a small dataset, so we want the distributions to stabilize\n",
    "    \"\"\"\n",
    "    num_topics = num_topics\n",
    "    chunksize = chunksize\n",
    "    dictionary = corpora.Dictionary(c)\n",
    "    corpus = [dictionary.doc2bow(doc) for doc in c]\n",
    "    tfidf = models.TfidfModel(corpus)\n",
    "    corpus_tfidf = tfidf[bow_corpus]\n",
    "    t1 = time.time()\n",
    "    # low alpha means each document is only represented by a small number of topics, and vice versa\n",
    "    # low eta means each topic is only represented by a small number of words, and vice versa\n",
    "    lda = LdaModel(corpus=corpus_tfidf, num_topics=num_topics, id2word=dictionary,\n",
    "                   alpha=1e-2, eta=0.5e-2, chunksize=chunksize, minimum_probability=0.0, passes=2)\n",
    "    t2 = time.time()\n",
    "    print(\"Time to train LDA model on \", len(c), \"articles: \", (t2-t1)/60, \"min\")\n",
    "    return dictionary,corpus_tfidf,lda"
   ]
  },
  {
   "cell_type": "code",
   "execution_count": 59,
   "metadata": {},
   "outputs": [
    {
     "name": "stdout",
     "output_type": "stream",
     "text": [
      "Time to train LDA model on  1396270 articles:  8.91610167423884 min\n"
     ]
    }
   ],
   "source": [
    "dictionary,corpus_tfidf,lda=train_lda(c,10,20)"
   ]
  },
  {
   "cell_type": "code",
   "execution_count": 74,
   "metadata": {},
   "outputs": [],
   "source": [
    "random_article_index = 0\n",
    "bow = dictionary.doc2bow(c[0])"
   ]
  },
  {
   "cell_type": "code",
   "execution_count": 75,
   "metadata": {},
   "outputs": [
    {
     "data": {
      "text/plain": [
       "[(0, 0.3046469245917836),\n",
       " (1, 0.491546495417912),\n",
       " (2, 0.39322966101805484),\n",
       " (3, 0.49733840611751406),\n",
       " (4, 0.414989535538461),\n",
       " (5, 0.30229277707021907)]"
      ]
     },
     "execution_count": 75,
     "metadata": {},
     "output_type": "execute_result"
    }
   ],
   "source": [
    "corpus_tfidf_test = tfidf[bow] # This is like transforming to the pre trained tfidf model\n",
    "corpus_tfidf_test"
   ]
  },
  {
   "cell_type": "code",
   "execution_count": 76,
   "metadata": {},
   "outputs": [],
   "source": [
    "new_doc_distribution = np.array([tup[1] for tup in lda.get_document_topics(bow=corpus_tfidf_test)])"
   ]
  },
  {
   "cell_type": "code",
   "execution_count": 60,
   "metadata": {},
   "outputs": [
    {
     "data": {
      "text/plain": [
       "(1396270, 10)"
      ]
     },
     "execution_count": 60,
     "metadata": {},
     "output_type": "execute_result"
    }
   ],
   "source": [
    "doc_topic_dist = np.array([[tup[1] for tup in lst] for lst in lda[corpus_tfidf]])\n",
    "doc_topic_dist.shape "
   ]
  },
  {
   "cell_type": "code",
   "execution_count": 77,
   "metadata": {},
   "outputs": [
    {
     "data": {
      "image/png": "[encoded data removed]",
      "text/plain": [
       "<Figure size 864x432 with 1 Axes>"
      ]
     },
     "metadata": {
      "needs_background": "light"
     },
     "output_type": "display_data"
    }
   ],
   "source": [
    "fig, ax = plt.subplots(figsize=(12,6));\n",
    "# the histogram of the data\n",
    "patches = ax.bar(np.arange(len(new_doc_distribution)), new_doc_distribution)\n",
    "ax.set_xlabel('Topic ID', fontsize=15)\n",
    "ax.set_ylabel('Topic Contribution', fontsize=15)\n",
    "ax.set_title(\"Topic Distribution for Article \" + str(random_article_index), fontsize=20)\n",
    "ax.set_xticks(np.linspace(10,100,10))\n",
    "fig.tight_layout()\n",
    "plt.show()"
   ]
  },
  {
   "cell_type": "code",
   "execution_count": 79,
   "metadata": {},
   "outputs": [
    {
     "name": "stdout",
     "output_type": "stream",
     "text": [
      "Query point is 'implementing boundary value analysis software testing c++ program'\n",
      "\n",
      "implementing boundary value analysis software testing c++ program\n",
      "\n",
      "\n",
      "serendipity booksellers software program c++\n",
      "\n",
      "\n",
      "testing xml xmlunit variable value\n",
      "\n",
      "\n",
      "hardcode value texbox c++\n",
      "\n",
      "\n",
      "boundary value analysis c++ cppunit\n",
      "\n",
      "\n",
      "bignum divison value assignment c++\n",
      "\n",
      "\n",
      "extending lifetime temporary value c++\n",
      "\n",
      "\n",
      "insertion pair mapped value multimap c++\n",
      "\n",
      "\n",
      "polymorphic containers value semantics c++\n",
      "\n",
      "\n",
      "xerces c++ xml escape really hard\n",
      "\n",
      "\n",
      "TIME TAKEN TO FETCH RESULTS\n",
      "1.3981478214263916 seconds\n"
     ]
    }
   ],
   "source": [
    "import time\n",
    "print(\"Query point is 'implementing boundary value analysis software testing c++ program'\\n\")\n",
    "start_time = time.time()\n",
    "new_doc_distribution = np.array([tup[1] for tup in lda.get_document_topics(bow=corpus_tfidf_test)])\n",
    "indice=get_most_similar_documents(new_doc_distribution,doc_topic_dist,k=10)\n",
    "for i in indice:\n",
    "    print(data['Cleaned_Title'][i])\n",
    "    print('\\n')\n",
    "print('TIME TAKEN TO FETCH RESULTS')\n",
    "print(time.time()-start_time,'seconds')"
   ]
  },
  {
   "cell_type": "code",
   "execution_count": 11,
   "metadata": {},
   "outputs": [],
   "source": [
    "dictionary = gensim.corpora.Dictionary(c) #Building Dictionary\n",
    "bow_corpus = [dictionary.doc2bow(doc) for doc in c] #BOW corpus to give positions\n",
    "tfidf = models.TfidfModel(bow_corpus) #This internally builds a tfidf model based on BOW_CORPUS\n",
    "corpus_tfidf = tfidf[bow_corpus] #This returns each sentence representations as (word_position,TFIDF of that word)"
   ]
  },
  {
   "cell_type": "code",
   "execution_count": 63,
   "metadata": {},
   "outputs": [
    {
     "name": "stdout",
     "output_type": "stream",
     "text": [
      "[(68, 0.2547659112061909), (182, 0.6780021538465144), (320, 0.5362615646917638), (444, 0.3099085293797901), (550, 0.30296476283350743)]\n"
     ]
    }
   ],
   "source": [
    "print(corpus_tfidf[1000])"
   ]
  },
  {
   "cell_type": "markdown",
   "metadata": {},
   "source": [
    "### Applied AI query"
   ]
  },
  {
   "cell_type": "code",
   "execution_count": 63,
   "metadata": {},
   "outputs": [],
   "source": [
    "def Recomend(string):  \n",
    "    stopwords_1 = stopwords.words(\"english\")\n",
    "    a=string\n",
    "    sent_1=a.lower().strip()\n",
    "    sent_1 = re.sub(r\"won\\'t\", \"will not\", sent_1)\n",
    "    sent_1 = re.sub(r\"can\\'t\", \"can not\", sent_1)\n",
    "    sent_1 = re.sub(r\"n\\'t\", \" not\", sent_1)\n",
    "    sent_1 = re.sub(r\"\\'re\", \" are\", sent_1)\n",
    "    sent_1 = re.sub(r\"\\'s\", \" is\", sent_1)\n",
    "    sent_1 = re.sub(r\"\\'d\", \" would\", sent_1)\n",
    "    sent_1 = re.sub(r\"\\'ll\", \" will\", sent_1)\n",
    "    sent_1 = re.sub(r\"\\'t\", \" not\", sent_1)\n",
    "    sent_1 = re.sub(r\"\\'ve\", \" have\", sent_1)\n",
    "    sent_1 = re.sub(r\"\\'m\", \" am\", sent_1)\n",
    "    sent_1 = re.sub('[^A-Za-z0-9-+]+', ' ', sent_1)\n",
    "    sent_1 = ' '.join(e for e in sent_1.split() if e not in stopwords_1)\n",
    "    sent_1=sent_1.lower().strip()\n",
    "    print('QUERY ENTERED BY THE USER')\n",
    "    print(a)\n",
    "    print('\\n')\n",
    "    \n",
    "    query=sent_1.split()\n",
    "    bow = dictionary.doc2bow(query) # This returns the position of the words\n",
    "    corpus_tfidf_test = tfidf[bow] #This internally builds a tfidf model based on BOW_CORPUS\n",
    "    new_doc_distribution = np.array([tup[1] for tup in lda.get_document_topics(bow=corpus_tfidf_test)]) #This returns the distribution or values for each topic\n",
    "    indices=get_most_similar_documents(new_doc_distribution,doc_topic_dist,k=10)\n",
    "    \n",
    "    \n",
    "    print('RECOMENDED SIMILAR QUESTIONS')\n",
    "    g=0\n",
    "    for i in indices:\n",
    "        g=g+1\n",
    "        print(g ,'th question','\"',data_main_clean_v5['Cleaned_Title'][i],'\"')\n",
    "        print('\\n')"
   ]
  },
  {
   "cell_type": "code",
   "execution_count": 64,
   "metadata": {},
   "outputs": [
    {
     "name": "stdout",
     "output_type": "stream",
     "text": [
      "QUERY ENTERED BY THE USER\n",
      "how to create a linked list in python\n",
      "\n",
      "\n"
     ]
    },
    {
     "name": "stderr",
     "output_type": "stream",
     "text": [
      "C:\\Users\\Utsav\\Miniconda3\\lib\\site-packages\\ipykernel_launcher.py:12: RuntimeWarning: invalid value encountered in sqrt\n",
      "  if sys.path[0] == '':\n"
     ]
    },
    {
     "name": "stdout",
     "output_type": "stream",
     "text": [
      "RECOMENDED SIMILAR QUESTIONS\n",
      "1 th question \" create view contain image text like newspaper \"\n",
      "\n",
      "\n",
      "2 th question \" stick image bottom visible screen centered \"\n",
      "\n",
      "\n",
      "3 th question \" trace chmod 640 ed etc passwd file \"\n",
      "\n",
      "\n",
      "4 th question \" values pulling ruby array c extension wrong \"\n",
      "\n",
      "\n",
      "5 th question \" get file descriptor handle filestream \"\n",
      "\n",
      "\n",
      "6 th question \" inilne event registration vs advanced registration image validation \"\n",
      "\n",
      "\n",
      "7 th question \" build automation code review deployment system grails \"\n",
      "\n",
      "\n",
      "8 th question \" python csv finding rows biggest values \"\n",
      "\n",
      "\n",
      "9 th question \" symfony2 avalancheimaginebundle merge image filter \"\n",
      "\n",
      "\n",
      "10 th question \" genrating designer file asp net application \"\n",
      "\n",
      "\n",
      "TIME TAKEN TO FETCH RESULTS\n",
      "1.653294563293457 seconds\n"
     ]
    }
   ],
   "source": [
    "import time\n",
    "start_time = time.time()\n",
    "Recomend('how to create a linked list in python')\n",
    "print('TIME TAKEN TO FETCH RESULTS')\n",
    "print(time.time()-start_time,'seconds')"
   ]
  },
  {
   "cell_type": "code",
   "execution_count": 65,
   "metadata": {},
   "outputs": [
    {
     "name": "stdout",
     "output_type": "stream",
     "text": [
      "QUERY ENTERED BY THE USER\n",
      "LSTM with Keras\n",
      "\n",
      "\n",
      "RECOMENDED SIMILAR QUESTIONS\n",
      "1 th question \" scrolling touch devices phonegap cordova projects \"\n",
      "\n",
      "\n",
      "2 th question \" delphi 2009 converts delphi 7 projects build configurations \"\n",
      "\n",
      "\n",
      "3 th question \" debug jsp pages eclipse+maven+jetty \"\n",
      "\n",
      "\n",
      "4 th question \" viewing http headers wcf service \"\n",
      "\n",
      "\n",
      "5 th question \" viewing contents previous commits xcode \"\n",
      "\n",
      "\n",
      "6 th question \" viewing output visual studio xslt debugger \"\n",
      "\n",
      "\n",
      "7 th question \" dns works iterative recursive queries \"\n",
      "\n",
      "\n",
      "8 th question \" dns service discovery multicast dns bonjour related \"\n",
      "\n",
      "\n",
      "9 th question \" possible varchar hash indexing structure mysql \"\n",
      "\n",
      "\n",
      "10 th question \" viewing uploaded pdf doc pictures without converting \"\n",
      "\n",
      "\n",
      "TIME TAKEN TO FETCH RESULTS\n",
      "1.2918615341186523 seconds\n"
     ]
    }
   ],
   "source": [
    "import time\n",
    "start_time = time.time()\n",
    "Recomend('LSTM with Keras')\n",
    "print('TIME TAKEN TO FETCH RESULTS')\n",
    "print(time.time()-start_time,'seconds')"
   ]
  },
  {
   "cell_type": "markdown",
   "metadata": {},
   "source": [
    "### Training TFIDF LDA with num_topics as 30 and chunksize as 50"
   ]
  },
  {
   "cell_type": "markdown",
   "metadata": {},
   "source": [
    "1. We choosed this combination as it worked well in BOW LDA"
   ]
  },
  {
   "cell_type": "code",
   "execution_count": 27,
   "metadata": {},
   "outputs": [],
   "source": [
    "def train_lda(data,num_topics,chunksize):\n",
    "    \"\"\"\n",
    "    This function trains the lda model\n",
    "    We setup parameters like number of topics, the chunksize to use in Hoffman method\n",
    "    We also do 2 passes of the data since this is a small dataset, so we want the distributions to stabilize\n",
    "    \"\"\"\n",
    "    num_topics = num_topics\n",
    "    chunksize = chunksize\n",
    "    dictionary = corpora.Dictionary(c)\n",
    "    corpus = [dictionary.doc2bow(doc) for doc in c]\n",
    "    tfidf = models.TfidfModel(corpus)\n",
    "    corpus_tfidf = tfidf[bow_corpus]\n",
    "    t1 = time.time()\n",
    "    # low alpha means each document is only represented by a small number of topics, and vice versa\n",
    "    # low eta means each topic is only represented by a small number of words, and vice versa\n",
    "    lda = LdaModel(corpus=corpus_tfidf, num_topics=num_topics, id2word=dictionary,\n",
    "                   alpha=1e-2, eta=0.5e-2, chunksize=chunksize, minimum_probability=0.0, passes=2)\n",
    "    t2 = time.time()\n",
    "    print(\"Time to train LDA model on \", len(c), \"articles: \", (t2-t1)/60, \"min\")\n",
    "    return dictionary,corpus_tfidf,lda"
   ]
  },
  {
   "cell_type": "code",
   "execution_count": 29,
   "metadata": {},
   "outputs": [
    {
     "name": "stdout",
     "output_type": "stream",
     "text": [
      "Time to train LDA model on  1396270 articles:  16.363105710347494 min\n"
     ]
    }
   ],
   "source": [
    "dictionary,corpus_tfidf,lda=train_lda(c,30,50)"
   ]
  },
  {
   "cell_type": "code",
   "execution_count": 44,
   "metadata": {},
   "outputs": [
    {
     "data": {
      "text/plain": [
       "[(0, 0.3046469245917836),\n",
       " (1, 0.491546495417912),\n",
       " (2, 0.39322966101805484),\n",
       " (3, 0.49733840611751406),\n",
       " (4, 0.414989535538461),\n",
       " (5, 0.30229277707021907)]"
      ]
     },
     "execution_count": 44,
     "metadata": {},
     "output_type": "execute_result"
    }
   ],
   "source": [
    "random_article_index = 0\n",
    "bow = dictionary.doc2bow(c[0])\n",
    "corpus_tfidf_test = tfidf[bow] # This is like transforming to the pre trained tfidf model\n",
    "corpus_tfidf_test\n",
    "\n",
    "new_doc_distribution = np.array([tup[1] for tup in lda.get_document_topics(bow=corpus_tfidf_test)])"
   ]
  },
  {
   "cell_type": "code",
   "execution_count": 47,
   "metadata": {},
   "outputs": [
    {
     "data": {
      "text/plain": [
       "(1396270, 30)"
      ]
     },
     "execution_count": 47,
     "metadata": {},
     "output_type": "execute_result"
    }
   ],
   "source": [
    "doc_topic_dist = np.array([[tup[1] for tup in lst] for lst in lda[corpus_tfidf]])\n",
    "doc_topic_dist.shape "
   ]
  },
  {
   "cell_type": "markdown",
   "metadata": {},
   "source": [
    "This returns the distribution as per 30 topics for each point in data"
   ]
  },
  {
   "cell_type": "code",
   "execution_count": 48,
   "metadata": {},
   "outputs": [
    {
     "data": {
      "image/png": "[encoded data removed]",
      "text/plain": [
       "<Figure size 864x432 with 1 Axes>"
      ]
     },
     "metadata": {
      "needs_background": "light"
     },
     "output_type": "display_data"
    }
   ],
   "source": [
    "fig, ax = plt.subplots(figsize=(12,6));\n",
    "# the histogram of the data\n",
    "patches = ax.bar(np.arange(len(new_doc_distribution)), new_doc_distribution)\n",
    "ax.set_xlabel('Topic ID', fontsize=15)\n",
    "ax.set_ylabel('Topic Contribution', fontsize=15)\n",
    "ax.set_title(\"Topic Distribution for Article \" + str(random_article_index), fontsize=20)\n",
    "ax.set_xticks(np.linspace(10,100,10))\n",
    "fig.tight_layout()\n",
    "plt.show()"
   ]
  },
  {
   "cell_type": "markdown",
   "metadata": {},
   "source": [
    "We can see two topics are majaorly contributing to the first data point"
   ]
  },
  {
   "cell_type": "code",
   "execution_count": 62,
   "metadata": {},
   "outputs": [
    {
     "name": "stdout",
     "output_type": "stream",
     "text": [
      "Query point is 'implementing boundary value analysis software testing c++ program'\n",
      "\n",
      "implementing boundary value analysis software testing c++ program\n",
      "\n",
      "\n",
      "python testing none testing boolean value\n",
      "\n",
      "\n",
      "compiling c++ program mysql h linux\n",
      "\n",
      "\n",
      "testing session set particular value\n",
      "\n",
      "\n",
      "warning control paths return value mean c++\n",
      "\n",
      "\n",
      "changing value stdout c++ program\n",
      "\n",
      "\n",
      "read trackbar control value c++ winapi program\n",
      "\n",
      "\n",
      "causing program crash mysql connector c++\n",
      "\n",
      "\n",
      "session value set session start available page preinit\n",
      "\n",
      "\n",
      "make simple c++ server-client software\n",
      "\n",
      "\n",
      "TIME TAKEN TO FETCH RESULTS\n",
      "4.027257919311523 seconds\n"
     ]
    }
   ],
   "source": [
    "import time\n",
    "print(\"Query point is 'implementing boundary value analysis software testing c++ program'\\n\")\n",
    "start_time = time.time()\n",
    "new_doc_distribution = np.array([tup[1] for tup in lda.get_document_topics(bow=corpus_tfidf_test)])\n",
    "indice=get_most_similar_documents(new_doc_distribution,doc_topic_dist,k=10)\n",
    "for i in indice:\n",
    "    print(data['Cleaned_Title'][i])\n",
    "    print('\\n')\n",
    "print('TIME TAKEN TO FETCH RESULTS')\n",
    "print(time.time()-start_time,'seconds')"
   ]
  },
  {
   "cell_type": "code",
   "execution_count": null,
   "metadata": {},
   "outputs": [],
   "source": []
  }
 ],
 "metadata": {
  "kernelspec": {
   "display_name": "Python 3",
   "language": "python",
   "name": "python3"
  },
  "language_info": {
   "codemirror_mode": {
    "name": "ipython",
    "version": 3
   },
   "file_extension": ".py",
   "mimetype": "text/x-python",
   "name": "python",
   "nbconvert_exporter": "python",
   "pygments_lexer": "ipython3",
   "version": "3.7.4"
  }
 },
 "nbformat": 4,
 "nbformat_minor": 2
}
