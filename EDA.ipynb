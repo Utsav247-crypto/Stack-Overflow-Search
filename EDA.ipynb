{
 "cells": [
  {
   "cell_type": "markdown",
   "metadata": {},
   "source": [
    "# Stack Overflow Search based on Questions Title"
   ]
  },
  {
   "cell_type": "markdown",
   "metadata": {},
   "source": [
    "## Objectives"
   ]
  },
  {
   "cell_type": "markdown",
   "metadata": {},
   "source": [
    "1. Building a search on stack overflow questions that returns similar set of questions.\n",
    "2. Search should include semantic meaning of words."
   ]
  },
  {
   "cell_type": "markdown",
   "metadata": {},
   "source": [
    "## Constraints"
   ]
  },
  {
   "cell_type": "markdown",
   "metadata": {},
   "source": [
    "1. Results should be displayed within a few seconds."
   ]
  },
  {
   "cell_type": "markdown",
   "metadata": {},
   "source": [
    "## Initial Steps"
   ]
  },
  {
   "cell_type": "markdown",
   "metadata": {},
   "source": [
    "1. Perform EDA on Question Text data\n",
    "2. Remove html tags\n",
    "3. Clean data and remove special hidden characters\n",
    "4. Use simple Tokenization Techniques and find cosine distance to return similar questions"
   ]
  },
  {
   "cell_type": "markdown",
   "metadata": {},
   "source": [
    "## Importing Modules"
   ]
  },
  {
   "cell_type": "code",
   "execution_count": null,
   "metadata": {},
   "outputs": [],
   "source": [
    "import warnings\n",
    "warnings.filterwarnings(\"ignore\")\n",
    "import pandas as pd\n",
    "import sqlite3\n",
    "import csv\n",
    "import matplotlib.pyplot as plt\n",
    "import seaborn as sns\n",
    "import numpy as np\n",
    "import re\n",
    "import os\n",
    "from sqlalchemy import create_engine # database connection\n",
    "import datetime as dt\n",
    "from nltk.corpus import stopwords\n",
    "from nltk.tokenize import word_tokenize\n",
    "from nltk.stem.snowball import SnowballStemmer\n",
    "from sklearn.feature_extraction.text import CountVectorizer\n",
    "from sklearn.feature_extraction.text import TfidfVectorizer\n",
    "from sklearn.multiclass import OneVsRestClassifier\n",
    "from sklearn.linear_model import SGDClassifier\n",
    "from sklearn import metrics\n",
    "from sklearn.metrics import f1_score,precision_score,recall_score\n",
    "from sklearn import svm\n",
    "from sklearn.linear_model import LogisticRegression\n",
    "from sklearn.naive_bayes import GaussianNB\n",
    "from datetime import datetime\n",
    "\n",
    "from tqdm import tqdm\n",
    "from nltk.corpus import stopwords\n",
    "from sklearn.metrics.pairwise import cosine_similarity  \n",
    "from sklearn.metrics import pairwise_distances"
   ]
  },
  {
   "cell_type": "markdown",
   "metadata": {},
   "source": [
    "## Taking data from .db file to DataFrame"
   ]
  },
  {
   "cell_type": "code",
   "execution_count": 2,
   "metadata": {},
   "outputs": [],
   "source": [
    "con = sqlite3.connect('train_no_dup.db')\n",
    "num_rows = pd.read_sql_query(\"\"\"SELECT title,tags FROM no_dup_train\"\"\", con)\n",
    "data=pd.DataFrame(num_rows)"
   ]
  },
  {
   "cell_type": "code",
   "execution_count": 3,
   "metadata": {
    "scrolled": true
   },
   "outputs": [
    {
     "data": {
      "text/html": [
       "<div>\n",
       "<style scoped>\n",
       "    .dataframe tbody tr th:only-of-type {\n",
       "        vertical-align: middle;\n",
       "    }\n",
       "\n",
       "    .dataframe tbody tr th {\n",
       "        vertical-align: top;\n",
       "    }\n",
       "\n",
       "    .dataframe thead th {\n",
       "        text-align: right;\n",
       "    }\n",
       "</style>\n",
       "<table border=\"1\" class=\"dataframe\">\n",
       "  <thead>\n",
       "    <tr style=\"text-align: right;\">\n",
       "      <th></th>\n",
       "      <th>Title</th>\n",
       "      <th>Tags</th>\n",
       "    </tr>\n",
       "  </thead>\n",
       "  <tbody>\n",
       "    <tr>\n",
       "      <th>0</th>\n",
       "      <td>Implementing Boundary Value Analysis of S...</td>\n",
       "      <td>c++ c</td>\n",
       "    </tr>\n",
       "    <tr>\n",
       "      <th>1</th>\n",
       "      <td>Dynamic Datagrid Binding in Silverlight?</td>\n",
       "      <td>c# silverlight data-binding</td>\n",
       "    </tr>\n",
       "    <tr>\n",
       "      <th>2</th>\n",
       "      <td>Dynamic Datagrid Binding in Silverlight?</td>\n",
       "      <td>c# silverlight data-binding columns</td>\n",
       "    </tr>\n",
       "    <tr>\n",
       "      <th>3</th>\n",
       "      <td>java.lang.NoClassDefFoundError: javax/serv...</td>\n",
       "      <td>jsp jstl</td>\n",
       "    </tr>\n",
       "    <tr>\n",
       "      <th>4</th>\n",
       "      <td>java.sql.SQLException:[Microsoft][ODBC Dri...</td>\n",
       "      <td>java jdbc</td>\n",
       "    </tr>\n",
       "  </tbody>\n",
       "</table>\n",
       "</div>"
      ],
      "text/plain": [
       "                                               Title  \\\n",
       "0       Implementing Boundary Value Analysis of S...   \n",
       "1           Dynamic Datagrid Binding in Silverlight?   \n",
       "2           Dynamic Datagrid Binding in Silverlight?   \n",
       "3      java.lang.NoClassDefFoundError: javax/serv...   \n",
       "4      java.sql.SQLException:[Microsoft][ODBC Dri...   \n",
       "\n",
       "                                  Tags  \n",
       "0                                c++ c  \n",
       "1          c# silverlight data-binding  \n",
       "2  c# silverlight data-binding columns  \n",
       "3                             jsp jstl  \n",
       "4                            java jdbc  "
      ]
     },
     "execution_count": 3,
     "metadata": {},
     "output_type": "execute_result"
    }
   ],
   "source": [
    "data.head()"
   ]
  },
  {
   "cell_type": "code",
   "execution_count": 4,
   "metadata": {},
   "outputs": [],
   "source": [
    "data_question=data['Title']"
   ]
  },
  {
   "cell_type": "markdown",
   "metadata": {},
   "source": [
    "## Preprocessing Text"
   ]
  },
  {
   "cell_type": "code",
   "execution_count": 5,
   "metadata": {},
   "outputs": [
    {
     "data": {
      "text/plain": [
       "4206315"
      ]
     },
     "execution_count": 5,
     "metadata": {},
     "output_type": "execute_result"
    }
   ],
   "source": [
    "len(data_question)"
   ]
  },
  {
   "cell_type": "markdown",
   "metadata": {},
   "source": [
    "<I><B>We have 4.2 million data points</B></I>"
   ]
  },
  {
   "cell_type": "markdown",
   "metadata": {},
   "source": [
    "### Visualising some exactly duplicate questions"
   ]
  },
  {
   "cell_type": "code",
   "execution_count": 6,
   "metadata": {},
   "outputs": [
    {
     "data": {
      "text/plain": [
       "2               Dynamic Datagrid Binding in Silverlight?\n",
       "261     In OCaml, is it possible to define Map in ter...\n",
       "293     Looking for an html element/property that sho...\n",
       "318        ON DUPLICATE KEY UPDATE implementation/design\n",
       "323     POST after copy project and change package na...\n",
       "Name: Title, dtype: object"
      ]
     },
     "execution_count": 6,
     "metadata": {},
     "output_type": "execute_result"
    }
   ],
   "source": [
    "data_question[data_question.duplicated()].head()"
   ]
  },
  {
   "cell_type": "markdown",
   "metadata": {},
   "source": [
    "### Removing duplicate questions"
   ]
  },
  {
   "cell_type": "code",
   "execution_count": 7,
   "metadata": {},
   "outputs": [],
   "source": [
    "data_question=data_question.drop_duplicates()"
   ]
  },
  {
   "cell_type": "code",
   "execution_count": 9,
   "metadata": {},
   "outputs": [
    {
     "name": "stdout",
     "output_type": "stream",
     "text": [
      "After removing Duplicate Questions we are left with 98.07 % data\n"
     ]
    }
   ],
   "source": [
    "print('After removing Duplicate Questions we are left with',round(((len(data_question)/len(data['Title']))*100),2),'% data')"
   ]
  },
  {
   "cell_type": "markdown",
   "metadata": {},
   "source": [
    "### After removing Duplicate Questions we are left with 98.07 % data"
   ]
  },
  {
   "cell_type": "code",
   "execution_count": 463,
   "metadata": {},
   "outputs": [
    {
     "data": {
      "text/plain": [
       "11      java.lang.NoSuchMethodError: javax.servlet.S...\n",
       "12      obtaining updated locations using gps in ser...\n",
       "13     \"Specified initialization vector (IV) does no...\n",
       "14     \"Uncaught TypeError: Property 'addListGroup' ...\n",
       "15            \"subquery returns more than 1 row\" error.\n",
       "16             \"while( !feof( file ) )\" is always wrong\n",
       "17     $ \\sum\\limits_{i=1}^{p-1} \\Bigl( \\Bigl\\lfloor...\n",
       "18     $5^{x}+2^{y}=2^{x}+5^{y} =\\frac{7}{10}$ Work ...\n",
       "19     $\\mathbb{Z}_m \\oplus \\mathbb{Z}_n$ isomorphic...\n",
       "20     $\\mathcal{B}_3$ modulo the normal closure of ...\n",
       "Name: Title, dtype: object"
      ]
     },
     "execution_count": 463,
     "metadata": {},
     "output_type": "execute_result"
    }
   ],
   "source": [
    "data_question[10:20]"
   ]
  },
  {
   "cell_type": "code",
   "execution_count": 16,
   "metadata": {},
   "outputs": [
    {
     "data": {
      "text/plain": [
       "4125234"
      ]
     },
     "execution_count": 16,
     "metadata": {},
     "output_type": "execute_result"
    }
   ],
   "source": [
    "len(data_question)"
   ]
  },
  {
   "cell_type": "code",
   "execution_count": 11,
   "metadata": {},
   "outputs": [],
   "source": [
    "#function to normalize text into a similar format\n",
    "import re\n",
    "def decontracted(phrase):\n",
    "    phrase=phrase.lower()\n",
    "    phrase = re.sub(r\"won\\'t\", \"will not\", phrase)\n",
    "    phrase = re.sub(r\"can\\'t\", \"can not\", phrase)\n",
    "    phrase = re.sub(r\"n\\'t\", \" not\", phrase)\n",
    "    phrase = re.sub(r\"\\'re\", \" are\", phrase)\n",
    "    phrase = re.sub(r\"\\'s\", \" is\", phrase)\n",
    "    phrase = re.sub(r\"\\'d\", \" would\", phrase)\n",
    "    phrase = re.sub(r\"\\'ll\", \" will\", phrase)\n",
    "    phrase = re.sub(r\"\\'t\", \" not\", phrase)\n",
    "    phrase = re.sub(r\"\\'ve\", \" have\", phrase)\n",
    "    phrase = re.sub(r\"\\'m\", \" am\", phrase)\n",
    "    phrase=phrase.strip()    \n",
    "    return phrase"
   ]
  },
  {
   "cell_type": "code",
   "execution_count": null,
   "metadata": {},
   "outputs": [],
   "source": [
    "phrase=re.sub('[^A-Za-z0-9-+]+', ' ',phrase)"
   ]
  },
  {
   "cell_type": "code",
   "execution_count": 12,
   "metadata": {},
   "outputs": [
    {
     "data": {
      "text/plain": [
       "'� (question mark) getting displayed in place of inverted comma while getting text from mysql database php'"
      ]
     },
     "execution_count": 12,
     "metadata": {},
     "output_type": "execute_result"
    }
   ],
   "source": [
    "decontracted(data_question[4206311])"
   ]
  },
  {
   "cell_type": "code",
   "execution_count": 13,
   "metadata": {},
   "outputs": [
    {
     "name": "stderr",
     "output_type": "stream",
     "text": [
      "100%|████████████████████████████████████████████████████████████████████| 4125234/4125234 [00:38<00:00, 106520.83it/s]\n"
     ]
    }
   ],
   "source": [
    "from tqdm import tqdm\n",
    "processed=[]\n",
    "for i in tqdm(data_question):\n",
    "    processed.append(decontracted(i))"
   ]
  },
  {
   "cell_type": "code",
   "execution_count": 464,
   "metadata": {},
   "outputs": [
    {
     "data": {
      "text/plain": [
       "['implementing boundary value analysis of software testing in a c++ program?',\n",
       " 'dynamic datagrid binding in silverlight?',\n",
       " 'java.lang.noclassdeffounderror: javax/servlet/jsp/tagext/taglibraryvalidator',\n",
       " 'java.sql.sqlexception:[microsoft][odbc driver manager] invalid descriptor index',\n",
       " 'better way to update feed on fb with php sdk',\n",
       " 'btnadd click event opens two window after record added',\n",
       " '\"sql injection\" issue preventing correct form submission - php',\n",
       " 'countable subadditivity of the lebesgue measure',\n",
       " 'hql equivalent to this sql query',\n",
       " 'undefined symbols for architecture i386: _objc_class_$_skpsmtpmessage\", referenced from: error']"
      ]
     },
     "execution_count": 464,
     "metadata": {},
     "output_type": "execute_result"
    }
   ],
   "source": [
    "processed[0:10]"
   ]
  },
  {
   "cell_type": "code",
   "execution_count": 15,
   "metadata": {},
   "outputs": [
    {
     "data": {
      "text/plain": [
       "4125234"
      ]
     },
     "execution_count": 15,
     "metadata": {},
     "output_type": "execute_result"
    }
   ],
   "source": [
    "len(processed)"
   ]
  },
  {
   "cell_type": "markdown",
   "metadata": {},
   "source": [
    "# Analysis of Tags"
   ]
  },
  {
   "cell_type": "code",
   "execution_count": 465,
   "metadata": {},
   "outputs": [
    {
     "data": {
      "text/plain": [
       "4337             c#\n",
       "18069          java\n",
       "27249           php\n",
       "18157    javascript\n",
       "1234        android\n",
       "18608        jquery\n",
       "4346            c++\n",
       "29101        python\n",
       "17643        iphone\n",
       "2215        asp.net\n",
       "Name: Tags, dtype: object"
      ]
     },
     "execution_count": 465,
     "metadata": {},
     "output_type": "execute_result"
    }
   ],
   "source": [
    "data['Tags'][0:10]"
   ]
  },
  {
   "cell_type": "code",
   "execution_count": 19,
   "metadata": {},
   "outputs": [],
   "source": [
    "from sklearn.feature_extraction.text import CountVectorizer\n",
    "vectorizer = CountVectorizer(tokenizer = lambda x: x.split())"
   ]
  },
  {
   "cell_type": "markdown",
   "metadata": {},
   "source": [
    "#### Code to count the frequecy of tags"
   ]
  },
  {
   "cell_type": "code",
   "execution_count": 27,
   "metadata": {},
   "outputs": [],
   "source": [
    "a=[]\n",
    "for i in range (0,(len(data['Tags']))):\n",
    "    b=data['Tags'][i].split()\n",
    "    a.extend(b)\n",
    "\n",
    "c=CountVectorizer(tokenizer = lambda x: x.split(',')) #Splitting on comma\n",
    "d = c.fit_transform(a) #Transforming data on 42k tags\n",
    "count=d.sum(axis=0) #Finding sum of each tag\n",
    "tags=c.get_feature_names()\n",
    "count_1=np.array(count) #Converting count matrix to numpy array\n",
    "tags_1=list(tags)\n",
    "\n",
    "#Making a DataFrame of Tag and tag count\n",
    "tag_count=pd.DataFrame()\n",
    "tag_count['Tags']=tags_1\n",
    "tag_count['Count']=count_1[0]\n",
    "\n",
    "#Sorting descending as per tag count\n",
    "tag_count_1=tag_count.sort_values(by='Count',ascending=False)\n",
    "\n",
    "tag_counts=tag_count_1['Count'].values"
   ]
  },
  {
   "cell_type": "code",
   "execution_count": 83,
   "metadata": {},
   "outputs": [],
   "source": [
    "tag_count_1.to_pickle('Tag_Count.pickle')"
   ]
  },
  {
   "cell_type": "code",
   "execution_count": 469,
   "metadata": {},
   "outputs": [
    {
     "data": {
      "text/html": [
       "<div>\n",
       "<style scoped>\n",
       "    .dataframe tbody tr th:only-of-type {\n",
       "        vertical-align: middle;\n",
       "    }\n",
       "\n",
       "    .dataframe tbody tr th {\n",
       "        vertical-align: top;\n",
       "    }\n",
       "\n",
       "    .dataframe thead th {\n",
       "        text-align: right;\n",
       "    }\n",
       "</style>\n",
       "<table border=\"1\" class=\"dataframe\">\n",
       "  <thead>\n",
       "    <tr style=\"text-align: right;\">\n",
       "      <th></th>\n",
       "      <th>Tags</th>\n",
       "      <th>Count</th>\n",
       "    </tr>\n",
       "  </thead>\n",
       "  <tbody>\n",
       "    <tr>\n",
       "      <th>4337</th>\n",
       "      <td>c#</td>\n",
       "      <td>331505</td>\n",
       "    </tr>\n",
       "    <tr>\n",
       "      <th>18069</th>\n",
       "      <td>java</td>\n",
       "      <td>299414</td>\n",
       "    </tr>\n",
       "    <tr>\n",
       "      <th>27249</th>\n",
       "      <td>php</td>\n",
       "      <td>284103</td>\n",
       "    </tr>\n",
       "    <tr>\n",
       "      <th>18157</th>\n",
       "      <td>javascript</td>\n",
       "      <td>265423</td>\n",
       "    </tr>\n",
       "    <tr>\n",
       "      <th>1234</th>\n",
       "      <td>android</td>\n",
       "      <td>235436</td>\n",
       "    </tr>\n",
       "    <tr>\n",
       "      <th>18608</th>\n",
       "      <td>jquery</td>\n",
       "      <td>221533</td>\n",
       "    </tr>\n",
       "    <tr>\n",
       "      <th>4346</th>\n",
       "      <td>c++</td>\n",
       "      <td>143936</td>\n",
       "    </tr>\n",
       "    <tr>\n",
       "      <th>29101</th>\n",
       "      <td>python</td>\n",
       "      <td>134137</td>\n",
       "    </tr>\n",
       "    <tr>\n",
       "      <th>17643</th>\n",
       "      <td>iphone</td>\n",
       "      <td>128681</td>\n",
       "    </tr>\n",
       "    <tr>\n",
       "      <th>2215</th>\n",
       "      <td>asp.net</td>\n",
       "      <td>125651</td>\n",
       "    </tr>\n",
       "    <tr>\n",
       "      <th>23452</th>\n",
       "      <td>mysql</td>\n",
       "      <td>122769</td>\n",
       "    </tr>\n",
       "    <tr>\n",
       "      <th>15900</th>\n",
       "      <td>html</td>\n",
       "      <td>120237</td>\n",
       "    </tr>\n",
       "    <tr>\n",
       "      <th>22</th>\n",
       "      <td>.net</td>\n",
       "      <td>114087</td>\n",
       "    </tr>\n",
       "    <tr>\n",
       "      <th>17575</th>\n",
       "      <td>ios</td>\n",
       "      <td>101010</td>\n",
       "    </tr>\n",
       "    <tr>\n",
       "      <th>25084</th>\n",
       "      <td>objective-c</td>\n",
       "      <td>95981</td>\n",
       "    </tr>\n",
       "    <tr>\n",
       "      <th>34270</th>\n",
       "      <td>sql</td>\n",
       "      <td>95160</td>\n",
       "    </tr>\n",
       "    <tr>\n",
       "      <th>7487</th>\n",
       "      <td>css</td>\n",
       "      <td>93745</td>\n",
       "    </tr>\n",
       "    <tr>\n",
       "      <th>31437</th>\n",
       "      <td>ruby-on-rails</td>\n",
       "      <td>83487</td>\n",
       "    </tr>\n",
       "    <tr>\n",
       "      <th>20205</th>\n",
       "      <td>linux</td>\n",
       "      <td>78670</td>\n",
       "    </tr>\n",
       "    <tr>\n",
       "      <th>4336</th>\n",
       "      <td>c</td>\n",
       "      <td>69169</td>\n",
       "    </tr>\n",
       "  </tbody>\n",
       "</table>\n",
       "</div>"
      ],
      "text/plain": [
       "                Tags   Count\n",
       "4337              c#  331505\n",
       "18069           java  299414\n",
       "27249            php  284103\n",
       "18157     javascript  265423\n",
       "1234         android  235436\n",
       "18608         jquery  221533\n",
       "4346             c++  143936\n",
       "29101         python  134137\n",
       "17643         iphone  128681\n",
       "2215         asp.net  125651\n",
       "23452          mysql  122769\n",
       "15900           html  120237\n",
       "22              .net  114087\n",
       "17575            ios  101010\n",
       "25084    objective-c   95981\n",
       "34270            sql   95160\n",
       "7487             css   93745\n",
       "31437  ruby-on-rails   83487\n",
       "20205          linux   78670\n",
       "4336               c   69169"
      ]
     },
     "execution_count": 469,
     "metadata": {},
     "output_type": "execute_result"
    }
   ],
   "source": [
    "tag_count_1.head(20)"
   ]
  },
  {
   "cell_type": "code",
   "execution_count": 80,
   "metadata": {},
   "outputs": [
    {
     "data": {
      "image/png": "[encoded data removed]",
      "text/plain": [
       "<Figure size 432x288 with 1 Axes>"
      ]
     },
     "metadata": {
      "needs_background": "light"
     },
     "output_type": "display_data"
    }
   ],
   "source": [
    "plt.plot(tag_counts)\n",
    "plt.title(\"Distribution of number of times tag appeared questions\")\n",
    "plt.grid()\n",
    "plt.xlabel(\"Tag number\")\n",
    "plt.ylabel(\"Number of times tag appeared\")\n",
    "plt.show()"
   ]
  },
  {
   "cell_type": "markdown",
   "metadata": {},
   "source": [
    "### We cannot make out anything from all tags. So we zoom in."
   ]
  },
  {
   "cell_type": "code",
   "execution_count": 88,
   "metadata": {},
   "outputs": [
    {
     "data": {
      "image/png": "[encoded data removed]",
      "text/plain": [
       "<Figure size 432x288 with 1 Axes>"
      ]
     },
     "metadata": {
      "needs_background": "light"
     },
     "output_type": "display_data"
    }
   ],
   "source": [
    "plt.plot(tag_counts[0:10000])\n",
    "plt.title(\"Distribution of number of times tag appeared questions\")\n",
    "plt.grid()\n",
    "plt.xlabel(\"Tag number\")\n",
    "plt.ylabel(\"Number of times tag appeared\")\n",
    "plt.show()"
   ]
  },
  {
   "cell_type": "markdown",
   "metadata": {},
   "source": [
    "### Cant find much after zoom in to 10000 points. Hence zooming in further."
   ]
  },
  {
   "cell_type": "code",
   "execution_count": 89,
   "metadata": {},
   "outputs": [
    {
     "data": {
      "image/png": "[encoded data removed]",
      "text/plain": [
       "<Figure size 432x288 with 1 Axes>"
      ]
     },
     "metadata": {
      "needs_background": "light"
     },
     "output_type": "display_data"
    }
   ],
   "source": [
    "plt.plot(tag_counts[0:1000])\n",
    "plt.title(\"Distribution of number of times tag appeared questions\")\n",
    "plt.grid()\n",
    "plt.xlabel(\"Tag number\")\n",
    "plt.ylabel(\"Number of times tag appeared\")\n",
    "plt.show()"
   ]
  },
  {
   "cell_type": "markdown",
   "metadata": {},
   "source": [
    "### Here we see, only few tags are used many times out of which C# is used 331505 times. "
   ]
  },
  {
   "cell_type": "markdown",
   "metadata": {},
   "source": [
    "### Experimenting with top 200 tags"
   ]
  },
  {
   "cell_type": "code",
   "execution_count": 160,
   "metadata": {},
   "outputs": [
    {
     "data": {
      "text/html": [
       "<div>\n",
       "<style scoped>\n",
       "    .dataframe tbody tr th:only-of-type {\n",
       "        vertical-align: middle;\n",
       "    }\n",
       "\n",
       "    .dataframe tbody tr th {\n",
       "        vertical-align: top;\n",
       "    }\n",
       "\n",
       "    .dataframe thead th {\n",
       "        text-align: right;\n",
       "    }\n",
       "</style>\n",
       "<table border=\"1\" class=\"dataframe\">\n",
       "  <thead>\n",
       "    <tr style=\"text-align: right;\">\n",
       "      <th></th>\n",
       "      <th>Tags</th>\n",
       "      <th>Count</th>\n",
       "    </tr>\n",
       "  </thead>\n",
       "  <tbody>\n",
       "    <tr>\n",
       "      <th>4337</th>\n",
       "      <td>c#</td>\n",
       "      <td>331505</td>\n",
       "    </tr>\n",
       "    <tr>\n",
       "      <th>18069</th>\n",
       "      <td>java</td>\n",
       "      <td>299414</td>\n",
       "    </tr>\n",
       "    <tr>\n",
       "      <th>27249</th>\n",
       "      <td>php</td>\n",
       "      <td>284103</td>\n",
       "    </tr>\n",
       "    <tr>\n",
       "      <th>18157</th>\n",
       "      <td>javascript</td>\n",
       "      <td>265423</td>\n",
       "    </tr>\n",
       "    <tr>\n",
       "      <th>1234</th>\n",
       "      <td>android</td>\n",
       "      <td>235436</td>\n",
       "    </tr>\n",
       "    <tr>\n",
       "      <th>...</th>\n",
       "      <td>...</td>\n",
       "      <td>...</td>\n",
       "    </tr>\n",
       "    <tr>\n",
       "      <th>32599</th>\n",
       "      <td>servlets</td>\n",
       "      <td>8163</td>\n",
       "    </tr>\n",
       "    <tr>\n",
       "      <th>14750</th>\n",
       "      <td>grails</td>\n",
       "      <td>8143</td>\n",
       "    </tr>\n",
       "    <tr>\n",
       "      <th>15326</th>\n",
       "      <td>haskell</td>\n",
       "      <td>8138</td>\n",
       "    </tr>\n",
       "    <tr>\n",
       "      <th>18692</th>\n",
       "      <td>jquery-mobile</td>\n",
       "      <td>8138</td>\n",
       "    </tr>\n",
       "    <tr>\n",
       "      <th>7042</th>\n",
       "      <td>core-data</td>\n",
       "      <td>8065</td>\n",
       "    </tr>\n",
       "  </tbody>\n",
       "</table>\n",
       "<p>200 rows × 2 columns</p>\n",
       "</div>"
      ],
      "text/plain": [
       "                Tags   Count\n",
       "4337              c#  331505\n",
       "18069           java  299414\n",
       "27249            php  284103\n",
       "18157     javascript  265423\n",
       "1234         android  235436\n",
       "...              ...     ...\n",
       "32599       servlets    8163\n",
       "14750         grails    8143\n",
       "15326        haskell    8138\n",
       "18692  jquery-mobile    8138\n",
       "7042       core-data    8065\n",
       "\n",
       "[200 rows x 2 columns]"
      ]
     },
     "execution_count": 160,
     "metadata": {},
     "output_type": "execute_result"
    }
   ],
   "source": [
    "tag_count_1[0:200]"
   ]
  },
  {
   "cell_type": "markdown",
   "metadata": {},
   "source": [
    "### From top 200 tags, we try to find if there are some tags that are present in the question body. If yes, we will take those tags and save it in an additional column as Token."
   ]
  },
  {
   "cell_type": "code",
   "execution_count": 106,
   "metadata": {},
   "outputs": [
    {
     "data": {
      "text/plain": [
       "4125234"
      ]
     },
     "execution_count": 106,
     "metadata": {},
     "output_type": "execute_result"
    }
   ],
   "source": [
    "len(processed)"
   ]
  },
  {
   "cell_type": "code",
   "execution_count": 471,
   "metadata": {},
   "outputs": [
    {
     "data": {
      "text/plain": [
       "['implementing boundary value analysis of software testing in a c++ program?',\n",
       " 'dynamic datagrid binding in silverlight?',\n",
       " 'java.lang.noclassdeffounderror: javax/servlet/jsp/tagext/taglibraryvalidator',\n",
       " 'java.sql.sqlexception:[microsoft][odbc driver manager] invalid descriptor index',\n",
       " 'better way to update feed on fb with php sdk',\n",
       " 'btnadd click event opens two window after record added',\n",
       " '\"sql injection\" issue preventing correct form submission - php',\n",
       " 'countable subadditivity of the lebesgue measure',\n",
       " 'hql equivalent to this sql query',\n",
       " 'undefined symbols for architecture i386: _objc_class_$_skpsmtpmessage\", referenced from: error']"
      ]
     },
     "execution_count": 471,
     "metadata": {},
     "output_type": "execute_result"
    }
   ],
   "source": [
    "processed[0:10]"
   ]
  },
  {
   "cell_type": "code",
   "execution_count": 116,
   "metadata": {},
   "outputs": [],
   "source": [
    "stopwords_1 = stopwords.words(\"english\")\n",
    "cleaned=[]"
   ]
  },
  {
   "cell_type": "code",
   "execution_count": 117,
   "metadata": {},
   "outputs": [
    {
     "name": "stderr",
     "output_type": "stream",
     "text": [
      "100%|█████████████████████████████████████████████████████████████████████| 4125234/4125234 [01:14<00:00, 55455.65it/s]\n"
     ]
    }
   ],
   "source": [
    "for sentance in tqdm(processed):\n",
    "    sent = re.sub('[^A-Za-z0-9-+]+', ' ', sentance)\n",
    "    sent = ' '.join(e for e in sent.split() if e not in stopwords_1)\n",
    "    cleaned.append(sent)"
   ]
  },
  {
   "cell_type": "code",
   "execution_count": 472,
   "metadata": {},
   "outputs": [
    {
     "data": {
      "text/plain": [
       "['implementing boundary value analysis software testing c++ program',\n",
       " 'dynamic datagrid binding silverlight',\n",
       " 'java lang noclassdeffounderror javax servlet jsp tagext taglibraryvalidator',\n",
       " 'java sql sqlexception microsoft odbc driver manager invalid descriptor index',\n",
       " 'better way update feed fb php sdk',\n",
       " 'btnadd click event opens two window record added',\n",
       " 'sql injection issue preventing correct form submission - php',\n",
       " 'countable subadditivity lebesgue measure',\n",
       " 'hql equivalent sql query',\n",
       " 'undefined symbols architecture i386 objc class skpsmtpmessage referenced error']"
      ]
     },
     "execution_count": 472,
     "metadata": {},
     "output_type": "execute_result"
    }
   ],
   "source": [
    "cleaned[0:10]"
   ]
  },
  {
   "cell_type": "markdown",
   "metadata": {},
   "source": [
    "### In cleaned, we are storing the cleaned values by removing special characters, tags, punctuations so that we can vectorize them perfectly"
   ]
  },
  {
   "cell_type": "code",
   "execution_count": 235,
   "metadata": {},
   "outputs": [],
   "source": [
    "aa=tag_count_1['Tags'][0:200]"
   ]
  },
  {
   "cell_type": "code",
   "execution_count": 190,
   "metadata": {},
   "outputs": [
    {
     "data": {
      "text/plain": [
       "4337                c#\n",
       "18069             java\n",
       "27249              php\n",
       "18157       javascript\n",
       "1234           android\n",
       "             ...      \n",
       "32599         servlets\n",
       "14750           grails\n",
       "15326          haskell\n",
       "18692    jquery-mobile\n",
       "7042         core-data\n",
       "Name: Tags, Length: 200, dtype: object"
      ]
     },
     "execution_count": 190,
     "metadata": {},
     "output_type": "execute_result"
    }
   ],
   "source": [
    "aa"
   ]
  },
  {
   "cell_type": "markdown",
   "metadata": {},
   "source": [
    "### In this part of code, we are taking top 4M data points and finding the tokens as per tags data"
   ]
  },
  {
   "cell_type": "code",
   "execution_count": 242,
   "metadata": {},
   "outputs": [],
   "source": [
    "cleaned1=cleaned[0:4000000]\n",
    "gg=[]\n",
    "ff=[]\n",
    "for k in (range(0,len(cleaned1))):\n",
    "    q=cleaned[k].split()\n",
    "    for i in aa:\n",
    "        for j in q:\n",
    "            if (i==j):\n",
    "                gg.append(i)\n",
    "    ff.append(gg)\n",
    "    gg=[]\n"
   ]
  },
  {
   "cell_type": "code",
   "execution_count": 243,
   "metadata": {},
   "outputs": [
    {
     "data": {
      "text/plain": [
       "4000000"
      ]
     },
     "execution_count": 243,
     "metadata": {},
     "output_type": "execute_result"
    }
   ],
   "source": [
    "len(ff)"
   ]
  },
  {
   "cell_type": "code",
   "execution_count": 473,
   "metadata": {},
   "outputs": [
    {
     "data": {
      "text/plain": [
       "[['c++', 'testing'],\n",
       " ['silverlight'],\n",
       " ['java', 'jsp'],\n",
       " ['java', 'sql'],\n",
       " ['php'],\n",
       " [],\n",
       " ['php', 'sql'],\n",
       " [],\n",
       " ['sql', 'query'],\n",
       " ['class']]"
      ]
     },
     "execution_count": 473,
     "metadata": {},
     "output_type": "execute_result"
    }
   ],
   "source": [
    "ff[0:10]"
   ]
  },
  {
   "cell_type": "code",
   "execution_count": 246,
   "metadata": {},
   "outputs": [],
   "source": [
    "data_main=pd.DataFrame()\n",
    "data_main['Cleaned_Title']=cleaned1\n",
    "data_main['Tokens']=ff\n",
    "data_main['Title']=processed[0:4000000]"
   ]
  },
  {
   "cell_type": "code",
   "execution_count": 309,
   "metadata": {},
   "outputs": [
    {
     "data": {
      "text/html": [
       "<div>\n",
       "<style scoped>\n",
       "    .dataframe tbody tr th:only-of-type {\n",
       "        vertical-align: middle;\n",
       "    }\n",
       "\n",
       "    .dataframe tbody tr th {\n",
       "        vertical-align: top;\n",
       "    }\n",
       "\n",
       "    .dataframe thead th {\n",
       "        text-align: right;\n",
       "    }\n",
       "</style>\n",
       "<table border=\"1\" class=\"dataframe\">\n",
       "  <thead>\n",
       "    <tr style=\"text-align: right;\">\n",
       "      <th></th>\n",
       "      <th>Title</th>\n",
       "      <th>Tokens</th>\n",
       "      <th>Cleaned_Title</th>\n",
       "    </tr>\n",
       "  </thead>\n",
       "  <tbody>\n",
       "    <tr>\n",
       "      <th>0</th>\n",
       "      <td>implementing boundary value analysis of softwa...</td>\n",
       "      <td>[c++, testing]</td>\n",
       "      <td>implementing boundary value analysis software ...</td>\n",
       "    </tr>\n",
       "    <tr>\n",
       "      <th>1</th>\n",
       "      <td>dynamic datagrid binding in silverlight?</td>\n",
       "      <td>[silverlight]</td>\n",
       "      <td>dynamic datagrid binding silverlight</td>\n",
       "    </tr>\n",
       "    <tr>\n",
       "      <th>2</th>\n",
       "      <td>java.lang.noclassdeffounderror: javax/servlet/...</td>\n",
       "      <td>[java, jsp]</td>\n",
       "      <td>java lang noclassdeffounderror javax servlet j...</td>\n",
       "    </tr>\n",
       "    <tr>\n",
       "      <th>3</th>\n",
       "      <td>java.sql.sqlexception:[microsoft][odbc driver ...</td>\n",
       "      <td>[java, sql]</td>\n",
       "      <td>java sql sqlexception microsoft odbc driver ma...</td>\n",
       "    </tr>\n",
       "    <tr>\n",
       "      <th>4</th>\n",
       "      <td>better way to update feed on fb with php sdk</td>\n",
       "      <td>[php]</td>\n",
       "      <td>better way update feed fb php sdk</td>\n",
       "    </tr>\n",
       "  </tbody>\n",
       "</table>\n",
       "</div>"
      ],
      "text/plain": [
       "                                               Title          Tokens  \\\n",
       "0  implementing boundary value analysis of softwa...  [c++, testing]   \n",
       "1           dynamic datagrid binding in silverlight?   [silverlight]   \n",
       "2  java.lang.noclassdeffounderror: javax/servlet/...     [java, jsp]   \n",
       "3  java.sql.sqlexception:[microsoft][odbc driver ...     [java, sql]   \n",
       "4       better way to update feed on fb with php sdk           [php]   \n",
       "\n",
       "                                       Cleaned_Title  \n",
       "0  implementing boundary value analysis software ...  \n",
       "1               dynamic datagrid binding silverlight  \n",
       "2  java lang noclassdeffounderror javax servlet j...  \n",
       "3  java sql sqlexception microsoft odbc driver ma...  \n",
       "4                  better way update feed fb php sdk  "
      ]
     },
     "execution_count": 309,
     "metadata": {},
     "output_type": "execute_result"
    }
   ],
   "source": [
    "data_main.head()"
   ]
  },
  {
   "cell_type": "code",
   "execution_count": 310,
   "metadata": {},
   "outputs": [],
   "source": [
    "data_main.to_pickle('4M_data_tokens_extracted.pickle')"
   ]
  },
  {
   "cell_type": "markdown",
   "metadata": {},
   "source": [
    "### Now we are trying to remove the data points which do not have any token. That is that have an empty list."
   ]
  },
  {
   "cell_type": "code",
   "execution_count": 302,
   "metadata": {},
   "outputs": [],
   "source": [
    "data_1=data_main\n",
    "data_main_clean=data_1[data_1.astype('str')['Tokens']!='[]']"
   ]
  },
  {
   "cell_type": "code",
   "execution_count": 348,
   "metadata": {},
   "outputs": [
    {
     "data": {
      "text/html": [
       "<div>\n",
       "<style scoped>\n",
       "    .dataframe tbody tr th:only-of-type {\n",
       "        vertical-align: middle;\n",
       "    }\n",
       "\n",
       "    .dataframe tbody tr th {\n",
       "        vertical-align: top;\n",
       "    }\n",
       "\n",
       "    .dataframe thead th {\n",
       "        text-align: right;\n",
       "    }\n",
       "</style>\n",
       "<table border=\"1\" class=\"dataframe\">\n",
       "  <thead>\n",
       "    <tr style=\"text-align: right;\">\n",
       "      <th></th>\n",
       "      <th>Title</th>\n",
       "      <th>Tokens</th>\n",
       "      <th>Cleaned_Title</th>\n",
       "    </tr>\n",
       "  </thead>\n",
       "  <tbody>\n",
       "    <tr>\n",
       "      <th>0</th>\n",
       "      <td>implementing boundary value analysis of softwa...</td>\n",
       "      <td>[c++, testing]</td>\n",
       "      <td>implementing boundary value analysis software ...</td>\n",
       "    </tr>\n",
       "    <tr>\n",
       "      <th>1</th>\n",
       "      <td>dynamic datagrid binding in silverlight?</td>\n",
       "      <td>[silverlight]</td>\n",
       "      <td>dynamic datagrid binding silverlight</td>\n",
       "    </tr>\n",
       "    <tr>\n",
       "      <th>2</th>\n",
       "      <td>java.lang.noclassdeffounderror: javax/servlet/...</td>\n",
       "      <td>[java, jsp]</td>\n",
       "      <td>java lang noclassdeffounderror javax servlet j...</td>\n",
       "    </tr>\n",
       "    <tr>\n",
       "      <th>3</th>\n",
       "      <td>java.sql.sqlexception:[microsoft][odbc driver ...</td>\n",
       "      <td>[java, sql]</td>\n",
       "      <td>java sql sqlexception microsoft odbc driver ma...</td>\n",
       "    </tr>\n",
       "    <tr>\n",
       "      <th>4</th>\n",
       "      <td>better way to update feed on fb with php sdk</td>\n",
       "      <td>[php]</td>\n",
       "      <td>better way update feed fb php sdk</td>\n",
       "    </tr>\n",
       "    <tr>\n",
       "      <th>...</th>\n",
       "      <td>...</td>\n",
       "      <td>...</td>\n",
       "      <td>...</td>\n",
       "    </tr>\n",
       "    <tr>\n",
       "      <th>3999988</th>\n",
       "      <td>scrolling listview causes buttons to be invisible</td>\n",
       "      <td>[listview]</td>\n",
       "      <td>scrolling listview causes buttons invisible</td>\n",
       "    </tr>\n",
       "    <tr>\n",
       "      <th>3999990</th>\n",
       "      <td>scrolling menu ( c code )</td>\n",
       "      <td>[c]</td>\n",
       "      <td>scrolling menu c code</td>\n",
       "    </tr>\n",
       "    <tr>\n",
       "      <th>3999991</th>\n",
       "      <td>scrolling menu bar in iphone</td>\n",
       "      <td>[iphone]</td>\n",
       "      <td>scrolling menu bar iphone</td>\n",
       "    </tr>\n",
       "    <tr>\n",
       "      <th>3999996</th>\n",
       "      <td>scrolling on touch devices for phonegap/cordov...</td>\n",
       "      <td>[phonegap]</td>\n",
       "      <td>scrolling touch devices phonegap cordova projects</td>\n",
       "    </tr>\n",
       "    <tr>\n",
       "      <th>3999999</th>\n",
       "      <td>scrolling overlay in silverlight</td>\n",
       "      <td>[silverlight]</td>\n",
       "      <td>scrolling overlay silverlight</td>\n",
       "    </tr>\n",
       "  </tbody>\n",
       "</table>\n",
       "<p>2360073 rows × 3 columns</p>\n",
       "</div>"
      ],
      "text/plain": [
       "                                                     Title          Tokens  \\\n",
       "0        implementing boundary value analysis of softwa...  [c++, testing]   \n",
       "1                 dynamic datagrid binding in silverlight?   [silverlight]   \n",
       "2        java.lang.noclassdeffounderror: javax/servlet/...     [java, jsp]   \n",
       "3        java.sql.sqlexception:[microsoft][odbc driver ...     [java, sql]   \n",
       "4             better way to update feed on fb with php sdk           [php]   \n",
       "...                                                    ...             ...   \n",
       "3999988  scrolling listview causes buttons to be invisible      [listview]   \n",
       "3999990                          scrolling menu ( c code )             [c]   \n",
       "3999991                       scrolling menu bar in iphone        [iphone]   \n",
       "3999996  scrolling on touch devices for phonegap/cordov...      [phonegap]   \n",
       "3999999                   scrolling overlay in silverlight   [silverlight]   \n",
       "\n",
       "                                             Cleaned_Title  \n",
       "0        implementing boundary value analysis software ...  \n",
       "1                     dynamic datagrid binding silverlight  \n",
       "2        java lang noclassdeffounderror javax servlet j...  \n",
       "3        java sql sqlexception microsoft odbc driver ma...  \n",
       "4                        better way update feed fb php sdk  \n",
       "...                                                    ...  \n",
       "3999988        scrolling listview causes buttons invisible  \n",
       "3999990                              scrolling menu c code  \n",
       "3999991                          scrolling menu bar iphone  \n",
       "3999996  scrolling touch devices phonegap cordova projects  \n",
       "3999999                      scrolling overlay silverlight  \n",
       "\n",
       "[2360073 rows x 3 columns]"
      ]
     },
     "execution_count": 348,
     "metadata": {},
     "output_type": "execute_result"
    }
   ],
   "source": [
    "data_main_clean"
   ]
  },
  {
   "cell_type": "code",
   "execution_count": 315,
   "metadata": {},
   "outputs": [
    {
     "data": {
      "text/plain": [
       "'dynamic datagrid binding in silverlight?'"
      ]
     },
     "execution_count": 315,
     "metadata": {},
     "output_type": "execute_result"
    }
   ],
   "source": [
    "data_main_clean['Title'][1]"
   ]
  },
  {
   "cell_type": "code",
   "execution_count": 479,
   "metadata": {},
   "outputs": [
    {
     "name": "stdout",
     "output_type": "stream",
     "text": [
      "After considering top 200 tags tokens we are left with 56.13 % of data\n"
     ]
    }
   ],
   "source": [
    "print('After considering top 200 tags tokens we are left with',round(((len(data_main_clean)/len(data))),2),'% of data')"
   ]
  },
  {
   "cell_type": "markdown",
   "metadata": {},
   "source": [
    "### After considering top 200 tags tokens we are left with 56.13 % of data"
   ]
  },
  {
   "cell_type": "code",
   "execution_count": 480,
   "metadata": {},
   "outputs": [
    {
     "name": "stdout",
     "output_type": "stream",
     "text": [
      "Number of data poitns left are  2360073\n"
     ]
    }
   ],
   "source": [
    "print('Number of data poitns left are ',len(data_main_clean))"
   ]
  },
  {
   "cell_type": "markdown",
   "metadata": {},
   "source": [
    "### As a feature engineering aspect, I am trying to consider the length of title"
   ]
  },
  {
   "cell_type": "code",
   "execution_count": 351,
   "metadata": {},
   "outputs": [],
   "source": [
    "z=[]\n",
    "for i in data_main_clean['Title'].values:\n",
    "    z.append(len(i))"
   ]
  },
  {
   "cell_type": "code",
   "execution_count": 352,
   "metadata": {},
   "outputs": [],
   "source": [
    "data_main_clean['Title_Length']=z"
   ]
  },
  {
   "cell_type": "code",
   "execution_count": 353,
   "metadata": {},
   "outputs": [
    {
     "data": {
      "text/html": [
       "<div>\n",
       "<style scoped>\n",
       "    .dataframe tbody tr th:only-of-type {\n",
       "        vertical-align: middle;\n",
       "    }\n",
       "\n",
       "    .dataframe tbody tr th {\n",
       "        vertical-align: top;\n",
       "    }\n",
       "\n",
       "    .dataframe thead th {\n",
       "        text-align: right;\n",
       "    }\n",
       "</style>\n",
       "<table border=\"1\" class=\"dataframe\">\n",
       "  <thead>\n",
       "    <tr style=\"text-align: right;\">\n",
       "      <th></th>\n",
       "      <th>Title</th>\n",
       "      <th>Tokens</th>\n",
       "      <th>Cleaned_Title</th>\n",
       "      <th>Title_Length</th>\n",
       "    </tr>\n",
       "  </thead>\n",
       "  <tbody>\n",
       "    <tr>\n",
       "      <th>0</th>\n",
       "      <td>implementing boundary value analysis of softwa...</td>\n",
       "      <td>[c++, testing]</td>\n",
       "      <td>implementing boundary value analysis software ...</td>\n",
       "      <td>74</td>\n",
       "    </tr>\n",
       "    <tr>\n",
       "      <th>1</th>\n",
       "      <td>dynamic datagrid binding in silverlight?</td>\n",
       "      <td>[silverlight]</td>\n",
       "      <td>dynamic datagrid binding silverlight</td>\n",
       "      <td>40</td>\n",
       "    </tr>\n",
       "    <tr>\n",
       "      <th>2</th>\n",
       "      <td>java.lang.noclassdeffounderror: javax/servlet/...</td>\n",
       "      <td>[java, jsp]</td>\n",
       "      <td>java lang noclassdeffounderror javax servlet j...</td>\n",
       "      <td>76</td>\n",
       "    </tr>\n",
       "    <tr>\n",
       "      <th>3</th>\n",
       "      <td>java.sql.sqlexception:[microsoft][odbc driver ...</td>\n",
       "      <td>[java, sql]</td>\n",
       "      <td>java sql sqlexception microsoft odbc driver ma...</td>\n",
       "      <td>79</td>\n",
       "    </tr>\n",
       "    <tr>\n",
       "      <th>4</th>\n",
       "      <td>better way to update feed on fb with php sdk</td>\n",
       "      <td>[php]</td>\n",
       "      <td>better way update feed fb php sdk</td>\n",
       "      <td>44</td>\n",
       "    </tr>\n",
       "    <tr>\n",
       "      <th>...</th>\n",
       "      <td>...</td>\n",
       "      <td>...</td>\n",
       "      <td>...</td>\n",
       "      <td>...</td>\n",
       "    </tr>\n",
       "    <tr>\n",
       "      <th>3999988</th>\n",
       "      <td>scrolling listview causes buttons to be invisible</td>\n",
       "      <td>[listview]</td>\n",
       "      <td>scrolling listview causes buttons invisible</td>\n",
       "      <td>49</td>\n",
       "    </tr>\n",
       "    <tr>\n",
       "      <th>3999990</th>\n",
       "      <td>scrolling menu ( c code )</td>\n",
       "      <td>[c]</td>\n",
       "      <td>scrolling menu c code</td>\n",
       "      <td>25</td>\n",
       "    </tr>\n",
       "    <tr>\n",
       "      <th>3999991</th>\n",
       "      <td>scrolling menu bar in iphone</td>\n",
       "      <td>[iphone]</td>\n",
       "      <td>scrolling menu bar iphone</td>\n",
       "      <td>28</td>\n",
       "    </tr>\n",
       "    <tr>\n",
       "      <th>3999996</th>\n",
       "      <td>scrolling on touch devices for phonegap/cordov...</td>\n",
       "      <td>[phonegap]</td>\n",
       "      <td>scrolling touch devices phonegap cordova projects</td>\n",
       "      <td>56</td>\n",
       "    </tr>\n",
       "    <tr>\n",
       "      <th>3999999</th>\n",
       "      <td>scrolling overlay in silverlight</td>\n",
       "      <td>[silverlight]</td>\n",
       "      <td>scrolling overlay silverlight</td>\n",
       "      <td>32</td>\n",
       "    </tr>\n",
       "  </tbody>\n",
       "</table>\n",
       "<p>2360073 rows × 4 columns</p>\n",
       "</div>"
      ],
      "text/plain": [
       "                                                     Title          Tokens  \\\n",
       "0        implementing boundary value analysis of softwa...  [c++, testing]   \n",
       "1                 dynamic datagrid binding in silverlight?   [silverlight]   \n",
       "2        java.lang.noclassdeffounderror: javax/servlet/...     [java, jsp]   \n",
       "3        java.sql.sqlexception:[microsoft][odbc driver ...     [java, sql]   \n",
       "4             better way to update feed on fb with php sdk           [php]   \n",
       "...                                                    ...             ...   \n",
       "3999988  scrolling listview causes buttons to be invisible      [listview]   \n",
       "3999990                          scrolling menu ( c code )             [c]   \n",
       "3999991                       scrolling menu bar in iphone        [iphone]   \n",
       "3999996  scrolling on touch devices for phonegap/cordov...      [phonegap]   \n",
       "3999999                   scrolling overlay in silverlight   [silverlight]   \n",
       "\n",
       "                                             Cleaned_Title  Title_Length  \n",
       "0        implementing boundary value analysis software ...            74  \n",
       "1                     dynamic datagrid binding silverlight            40  \n",
       "2        java lang noclassdeffounderror javax servlet j...            76  \n",
       "3        java sql sqlexception microsoft odbc driver ma...            79  \n",
       "4                        better way update feed fb php sdk            44  \n",
       "...                                                    ...           ...  \n",
       "3999988        scrolling listview causes buttons invisible            49  \n",
       "3999990                              scrolling menu c code            25  \n",
       "3999991                          scrolling menu bar iphone            28  \n",
       "3999996  scrolling touch devices phonegap cordova projects            56  \n",
       "3999999                      scrolling overlay silverlight            32  \n",
       "\n",
       "[2360073 rows x 4 columns]"
      ]
     },
     "execution_count": 353,
     "metadata": {},
     "output_type": "execute_result"
    }
   ],
   "source": [
    "data_main_clean"
   ]
  },
  {
   "cell_type": "code",
   "execution_count": 359,
   "metadata": {},
   "outputs": [],
   "source": [
    "z=list(data_main_clean['Title_Length'])"
   ]
  },
  {
   "cell_type": "code",
   "execution_count": 360,
   "metadata": {},
   "outputs": [],
   "source": [
    "z.sort(reverse=True)"
   ]
  },
  {
   "cell_type": "markdown",
   "metadata": {},
   "source": [
    "### Graph of Count of points vs Title_Length"
   ]
  },
  {
   "cell_type": "code",
   "execution_count": 476,
   "metadata": {},
   "outputs": [
    {
     "data": {
      "image/png": "[encoded data removed]",
      "text/plain": [
       "<Figure size 432x288 with 1 Axes>"
      ]
     },
     "metadata": {
      "needs_background": "light"
     },
     "output_type": "display_data"
    }
   ],
   "source": [
    "plt.plot(z)\n",
    "plt.title(\"Graph of Count of points vs Title_Length\")\n",
    "plt.grid()\n",
    "plt.xlabel(\"Count of Data_Points\")\n",
    "plt.ylabel(\"Title_Length\")\n",
    "plt.show()"
   ]
  },
  {
   "cell_type": "markdown",
   "metadata": {},
   "source": [
    "### From the plot we see that the average length of question title is 40-80. Hence we select the point with having that range of length."
   ]
  },
  {
   "cell_type": "code",
   "execution_count": 378,
   "metadata": {},
   "outputs": [],
   "source": [
    "data_main_clean_v1=data_main_clean[data_main_clean['Title_Length']>40]\n",
    "data_main_clean_v2=data_main_clean_v1[data_main_clean_v1['Title_Length']<80]"
   ]
  },
  {
   "cell_type": "code",
   "execution_count": 482,
   "metadata": {},
   "outputs": [
    {
     "data": {
      "text/html": [
       "<div>\n",
       "<style scoped>\n",
       "    .dataframe tbody tr th:only-of-type {\n",
       "        vertical-align: middle;\n",
       "    }\n",
       "\n",
       "    .dataframe tbody tr th {\n",
       "        vertical-align: top;\n",
       "    }\n",
       "\n",
       "    .dataframe thead th {\n",
       "        text-align: right;\n",
       "    }\n",
       "</style>\n",
       "<table border=\"1\" class=\"dataframe\">\n",
       "  <thead>\n",
       "    <tr style=\"text-align: right;\">\n",
       "      <th></th>\n",
       "      <th>Title</th>\n",
       "      <th>Tokens</th>\n",
       "      <th>Cleaned_Title</th>\n",
       "      <th>Title_Length</th>\n",
       "    </tr>\n",
       "  </thead>\n",
       "  <tbody>\n",
       "    <tr>\n",
       "      <th>0</th>\n",
       "      <td>implementing boundary value analysis of softwa...</td>\n",
       "      <td>[c++, testing]</td>\n",
       "      <td>implementing boundary value analysis software ...</td>\n",
       "      <td>74</td>\n",
       "    </tr>\n",
       "    <tr>\n",
       "      <th>2</th>\n",
       "      <td>java.lang.noclassdeffounderror: javax/servlet/...</td>\n",
       "      <td>[java, jsp]</td>\n",
       "      <td>java lang noclassdeffounderror javax servlet j...</td>\n",
       "      <td>76</td>\n",
       "    </tr>\n",
       "    <tr>\n",
       "      <th>3</th>\n",
       "      <td>java.sql.sqlexception:[microsoft][odbc driver ...</td>\n",
       "      <td>[java, sql]</td>\n",
       "      <td>java sql sqlexception microsoft odbc driver ma...</td>\n",
       "      <td>79</td>\n",
       "    </tr>\n",
       "    <tr>\n",
       "      <th>4</th>\n",
       "      <td>better way to update feed on fb with php sdk</td>\n",
       "      <td>[php]</td>\n",
       "      <td>better way update feed fb php sdk</td>\n",
       "      <td>44</td>\n",
       "    </tr>\n",
       "    <tr>\n",
       "      <th>6</th>\n",
       "      <td>\"sql injection\" issue preventing correct form ...</td>\n",
       "      <td>[php, sql]</td>\n",
       "      <td>sql injection issue preventing correct form su...</td>\n",
       "      <td>62</td>\n",
       "    </tr>\n",
       "  </tbody>\n",
       "</table>\n",
       "</div>"
      ],
      "text/plain": [
       "                                               Title          Tokens  \\\n",
       "0  implementing boundary value analysis of softwa...  [c++, testing]   \n",
       "2  java.lang.noclassdeffounderror: javax/servlet/...     [java, jsp]   \n",
       "3  java.sql.sqlexception:[microsoft][odbc driver ...     [java, sql]   \n",
       "4       better way to update feed on fb with php sdk           [php]   \n",
       "6  \"sql injection\" issue preventing correct form ...      [php, sql]   \n",
       "\n",
       "                                       Cleaned_Title  Title_Length  \n",
       "0  implementing boundary value analysis software ...            74  \n",
       "2  java lang noclassdeffounderror javax servlet j...            76  \n",
       "3  java sql sqlexception microsoft odbc driver ma...            79  \n",
       "4                  better way update feed fb php sdk            44  \n",
       "6  sql injection issue preventing correct form su...            62  "
      ]
     },
     "execution_count": 482,
     "metadata": {},
     "output_type": "execute_result"
    }
   ],
   "source": [
    "data_main_clean_v2.head()"
   ]
  },
  {
   "cell_type": "code",
   "execution_count": 387,
   "metadata": {},
   "outputs": [
    {
     "data": {
      "text/plain": [
       "'implementing boundary value analysis software testing c++ program'"
      ]
     },
     "execution_count": 387,
     "metadata": {},
     "output_type": "execute_result"
    }
   ],
   "source": [
    "data_main_clean_v2['Cleaned_Title'][0]"
   ]
  },
  {
   "cell_type": "markdown",
   "metadata": {},
   "source": [
    "#### Reset index of dataframe"
   ]
  },
  {
   "cell_type": "code",
   "execution_count": 395,
   "metadata": {},
   "outputs": [],
   "source": [
    "data_main_clean_v3=data_main_clean_v2.reset_index()"
   ]
  },
  {
   "cell_type": "code",
   "execution_count": 481,
   "metadata": {},
   "outputs": [
    {
     "data": {
      "text/html": [
       "<div>\n",
       "<style scoped>\n",
       "    .dataframe tbody tr th:only-of-type {\n",
       "        vertical-align: middle;\n",
       "    }\n",
       "\n",
       "    .dataframe tbody tr th {\n",
       "        vertical-align: top;\n",
       "    }\n",
       "\n",
       "    .dataframe thead th {\n",
       "        text-align: right;\n",
       "    }\n",
       "</style>\n",
       "<table border=\"1\" class=\"dataframe\">\n",
       "  <thead>\n",
       "    <tr style=\"text-align: right;\">\n",
       "      <th></th>\n",
       "      <th>index</th>\n",
       "      <th>Title</th>\n",
       "      <th>Tokens</th>\n",
       "      <th>Cleaned_Title</th>\n",
       "      <th>Title_Length</th>\n",
       "    </tr>\n",
       "  </thead>\n",
       "  <tbody>\n",
       "    <tr>\n",
       "      <th>0</th>\n",
       "      <td>0</td>\n",
       "      <td>implementing boundary value analysis of softwa...</td>\n",
       "      <td>[c++, testing]</td>\n",
       "      <td>implementing boundary value analysis software ...</td>\n",
       "      <td>74</td>\n",
       "    </tr>\n",
       "    <tr>\n",
       "      <th>1</th>\n",
       "      <td>2</td>\n",
       "      <td>java.lang.noclassdeffounderror: javax/servlet/...</td>\n",
       "      <td>[java, jsp]</td>\n",
       "      <td>java lang noclassdeffounderror javax servlet j...</td>\n",
       "      <td>76</td>\n",
       "    </tr>\n",
       "    <tr>\n",
       "      <th>2</th>\n",
       "      <td>3</td>\n",
       "      <td>java.sql.sqlexception:[microsoft][odbc driver ...</td>\n",
       "      <td>[java, sql]</td>\n",
       "      <td>java sql sqlexception microsoft odbc driver ma...</td>\n",
       "      <td>79</td>\n",
       "    </tr>\n",
       "    <tr>\n",
       "      <th>3</th>\n",
       "      <td>4</td>\n",
       "      <td>better way to update feed on fb with php sdk</td>\n",
       "      <td>[php]</td>\n",
       "      <td>better way update feed fb php sdk</td>\n",
       "      <td>44</td>\n",
       "    </tr>\n",
       "    <tr>\n",
       "      <th>4</th>\n",
       "      <td>6</td>\n",
       "      <td>\"sql injection\" issue preventing correct form ...</td>\n",
       "      <td>[php, sql]</td>\n",
       "      <td>sql injection issue preventing correct form su...</td>\n",
       "      <td>62</td>\n",
       "    </tr>\n",
       "  </tbody>\n",
       "</table>\n",
       "</div>"
      ],
      "text/plain": [
       "   index                                              Title          Tokens  \\\n",
       "0      0  implementing boundary value analysis of softwa...  [c++, testing]   \n",
       "1      2  java.lang.noclassdeffounderror: javax/servlet/...     [java, jsp]   \n",
       "2      3  java.sql.sqlexception:[microsoft][odbc driver ...     [java, sql]   \n",
       "3      4       better way to update feed on fb with php sdk           [php]   \n",
       "4      6  \"sql injection\" issue preventing correct form ...      [php, sql]   \n",
       "\n",
       "                                       Cleaned_Title  Title_Length  \n",
       "0  implementing boundary value analysis software ...            74  \n",
       "1  java lang noclassdeffounderror javax servlet j...            76  \n",
       "2  java sql sqlexception microsoft odbc driver ma...            79  \n",
       "3                  better way update feed fb php sdk            44  \n",
       "4  sql injection issue preventing correct form su...            62  "
      ]
     },
     "execution_count": 481,
     "metadata": {},
     "output_type": "execute_result"
    }
   ],
   "source": [
    "data_main_clean_v3.head()"
   ]
  },
  {
   "cell_type": "code",
   "execution_count": 460,
   "metadata": {},
   "outputs": [],
   "source": [
    "data_main_clean_v3.to_pickle('data_main_clean_v3.pickle')"
   ]
  },
  {
   "cell_type": "code",
   "execution_count": 483,
   "metadata": {},
   "outputs": [
    {
     "name": "stdout",
     "output_type": "stream",
     "text": [
      "After considering title length between 40-80 we are left with 33.21 % of data\n"
     ]
    }
   ],
   "source": [
    "print('After considering title length between 40-80 we are left with',round(((len(data_main_clean_v3)/len(data))),2),'% of data')"
   ]
  },
  {
   "cell_type": "markdown",
   "metadata": {},
   "source": [
    "### After considering title length between 40-80 we are left with 33.21 % of data"
   ]
  },
  {
   "cell_type": "code",
   "execution_count": 484,
   "metadata": {},
   "outputs": [
    {
     "name": "stdout",
     "output_type": "stream",
     "text": [
      "Number of data poitns left are  1396270\n"
     ]
    }
   ],
   "source": [
    "print('Number of data poitns left are ',len(data_main_clean_v3))"
   ]
  },
  {
   "cell_type": "markdown",
   "metadata": {},
   "source": [
    "Observation:\n",
    "1. Have not done lemmitization since it may change the meaning of words in title.(Eg C++ gets converted to C)"
   ]
  }
 ],
 "metadata": {
  "kernelspec": {
   "display_name": "Python 3",
   "language": "python",
   "name": "python3"
  },
  "language_info": {
   "codemirror_mode": {
    "name": "ipython",
    "version": 3
   },
   "file_extension": ".py",
   "mimetype": "text/x-python",
   "name": "python",
   "nbconvert_exporter": "python",
   "pygments_lexer": "ipython3",
   "version": "3.7.4"
  }
 },
 "nbformat": 4,
 "nbformat_minor": 2
}
