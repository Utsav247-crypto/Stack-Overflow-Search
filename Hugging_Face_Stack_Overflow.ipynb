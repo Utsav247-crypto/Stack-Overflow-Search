{
 "cells": [
  {
   "cell_type": "code",
   "execution_count": 2,
   "metadata": {
    "colab": {},
    "colab_type": "code",
    "id": "i7FcQ8d68uTj"
   },
   "outputs": [],
   "source": [
    "import warnings\n",
    "warnings.filterwarnings(\"ignore\")\n",
    "import pandas as pd\n",
    "import sqlite3\n",
    "import csv\n",
    "import matplotlib.pyplot as plt\n",
    "import seaborn as sns\n",
    "import numpy as np\n",
    "import re\n",
    "import os\n",
    "from sqlalchemy import create_engine # database connection\n",
    "import datetime as dt\n",
    "from nltk.corpus import stopwords\n",
    "from nltk.tokenize import word_tokenize\n",
    "from nltk.stem.snowball import SnowballStemmer\n",
    "from sklearn.feature_extraction.text import CountVectorizer\n",
    "from sklearn.feature_extraction.text import TfidfVectorizer\n",
    "from sklearn.multiclass import OneVsRestClassifier\n",
    "from sklearn.linear_model import SGDClassifier\n",
    "from sklearn import metrics\n",
    "from sklearn.metrics import f1_score,precision_score,recall_score\n",
    "from sklearn import svm\n",
    "from sklearn.linear_model import LogisticRegression\n",
    "from sklearn.naive_bayes import GaussianNB\n",
    "from datetime import datetime\n",
    "from tqdm import tqdm\n",
    "from nltk.corpus import stopwords\n",
    "from sklearn.metrics.pairwise import cosine_similarity\n",
    "from sklearn.metrics import pairwise_distances"
   ]
  },
  {
   "cell_type": "code",
   "execution_count": null,
   "metadata": {
    "colab": {},
    "colab_type": "code",
    "id": "79woSOsuB2Yc"
   },
   "outputs": [],
   "source": [
    "data_main_clean_v4=pd.read_pickle('data_main_clean_v4.pickle')"
   ]
  },
  {
   "cell_type": "code",
   "execution_count": 7,
   "metadata": {
    "colab": {
     "base_uri": "https://localhost:8080/",
     "height": 608
    },
    "colab_type": "code",
    "id": "w_bEOvlwJ8_B",
    "outputId": "2ce1117c-d264-4990-a522-0a6c46ae664f"
   },
   "outputs": [
    {
     "name": "stdout",
     "output_type": "stream",
     "text": [
      "Collecting transformers\n",
      "\u001b[?25l  Downloading https://files.pythonhosted.org/packages/27/3c/91ed8f5c4e7ef3227b4119200fc0ed4b4fd965b1f0172021c25701087825/transformers-3.0.2-py3-none-any.whl (769kB)\n",
      "\r",
      "\u001b[K     |▍                               | 10kB 17.4MB/s eta 0:00:01\r",
      "\u001b[K     |▉                               | 20kB 1.6MB/s eta 0:00:01\r",
      "\u001b[K     |█▎                              | 30kB 2.1MB/s eta 0:00:01\r",
      "\u001b[K     |█▊                              | 40kB 2.4MB/s eta 0:00:01\r",
      "\u001b[K     |██▏                             | 51kB 1.9MB/s eta 0:00:01\r",
      "\u001b[K     |██▋                             | 61kB 2.1MB/s eta 0:00:01\r",
      "\u001b[K     |███                             | 71kB 2.3MB/s eta 0:00:01\r",
      "\u001b[K     |███▍                            | 81kB 2.6MB/s eta 0:00:01\r",
      "\u001b[K     |███▉                            | 92kB 2.7MB/s eta 0:00:01\r",
      "\u001b[K     |████▎                           | 102kB 2.6MB/s eta 0:00:01\r",
      "\u001b[K     |████▊                           | 112kB 2.6MB/s eta 0:00:01\r",
      "\u001b[K     |█████▏                          | 122kB 2.6MB/s eta 0:00:01\r",
      "\u001b[K     |█████▌                          | 133kB 2.6MB/s eta 0:00:01\r",
      "\u001b[K     |██████                          | 143kB 2.6MB/s eta 0:00:01\r",
      "\u001b[K     |██████▍                         | 153kB 2.6MB/s eta 0:00:01\r",
      "\u001b[K     |██████▉                         | 163kB 2.6MB/s eta 0:00:01\r",
      "\u001b[K     |███████▎                        | 174kB 2.6MB/s eta 0:00:01\r",
      "\u001b[K     |███████▊                        | 184kB 2.6MB/s eta 0:00:01\r",
      "\u001b[K     |████████                        | 194kB 2.6MB/s eta 0:00:01\r",
      "\u001b[K     |████████▌                       | 204kB 2.6MB/s eta 0:00:01\r",
      "\u001b[K     |█████████                       | 215kB 2.6MB/s eta 0:00:01\r",
      "\u001b[K     |█████████▍                      | 225kB 2.6MB/s eta 0:00:01\r",
      "\u001b[K     |█████████▉                      | 235kB 2.6MB/s eta 0:00:01\r",
      "\u001b[K     |██████████▎                     | 245kB 2.6MB/s eta 0:00:01\r",
      "\u001b[K     |██████████▋                     | 256kB 2.6MB/s eta 0:00:01\r",
      "\u001b[K     |███████████                     | 266kB 2.6MB/s eta 0:00:01\r",
      "\u001b[K     |███████████▌                    | 276kB 2.6MB/s eta 0:00:01\r",
      "\u001b[K     |████████████                    | 286kB 2.6MB/s eta 0:00:01\r",
      "\u001b[K     |████████████▍                   | 296kB 2.6MB/s eta 0:00:01\r",
      "\u001b[K     |████████████▉                   | 307kB 2.6MB/s eta 0:00:01\r",
      "\u001b[K     |█████████████▏                  | 317kB 2.6MB/s eta 0:00:01\r",
      "\u001b[K     |█████████████▋                  | 327kB 2.6MB/s eta 0:00:01\r",
      "\u001b[K     |██████████████                  | 337kB 2.6MB/s eta 0:00:01\r",
      "\u001b[K     |██████████████▌                 | 348kB 2.6MB/s eta 0:00:01\r",
      "\u001b[K     |███████████████                 | 358kB 2.6MB/s eta 0:00:01\r",
      "\u001b[K     |███████████████▍                | 368kB 2.6MB/s eta 0:00:01\r",
      "\u001b[K     |███████████████▊                | 378kB 2.6MB/s eta 0:00:01\r",
      "\u001b[K     |████████████████▏               | 389kB 2.6MB/s eta 0:00:01\r",
      "\u001b[K     |████████████████▋               | 399kB 2.6MB/s eta 0:00:01\r",
      "\u001b[K     |█████████████████               | 409kB 2.6MB/s eta 0:00:01\r",
      "\u001b[K     |█████████████████▌              | 419kB 2.6MB/s eta 0:00:01\r",
      "\u001b[K     |██████████████████              | 430kB 2.6MB/s eta 0:00:01\r",
      "\u001b[K     |██████████████████▎             | 440kB 2.6MB/s eta 0:00:01\r",
      "\u001b[K     |██████████████████▊             | 450kB 2.6MB/s eta 0:00:01\r",
      "\u001b[K     |███████████████████▏            | 460kB 2.6MB/s eta 0:00:01\r",
      "\u001b[K     |███████████████████▋            | 471kB 2.6MB/s eta 0:00:01\r",
      "\u001b[K     |████████████████████            | 481kB 2.6MB/s eta 0:00:01\r",
      "\u001b[K     |████████████████████▌           | 491kB 2.6MB/s eta 0:00:01\r",
      "\u001b[K     |████████████████████▉           | 501kB 2.6MB/s eta 0:00:01\r",
      "\u001b[K     |█████████████████████▎          | 512kB 2.6MB/s eta 0:00:01\r",
      "\u001b[K     |█████████████████████▊          | 522kB 2.6MB/s eta 0:00:01\r",
      "\u001b[K     |██████████████████████▏         | 532kB 2.6MB/s eta 0:00:01\r",
      "\u001b[K     |██████████████████████▋         | 542kB 2.6MB/s eta 0:00:01\r",
      "\u001b[K     |███████████████████████         | 552kB 2.6MB/s eta 0:00:01\r",
      "\u001b[K     |███████████████████████▍        | 563kB 2.6MB/s eta 0:00:01\r",
      "\u001b[K     |███████████████████████▉        | 573kB 2.6MB/s eta 0:00:01\r",
      "\u001b[K     |████████████████████████▎       | 583kB 2.6MB/s eta 0:00:01\r",
      "\u001b[K     |████████████████████████▊       | 593kB 2.6MB/s eta 0:00:01\r",
      "\u001b[K     |█████████████████████████▏      | 604kB 2.6MB/s eta 0:00:01\r",
      "\u001b[K     |█████████████████████████▋      | 614kB 2.6MB/s eta 0:00:01\r",
      "\u001b[K     |██████████████████████████      | 624kB 2.6MB/s eta 0:00:01\r",
      "\u001b[K     |██████████████████████████▍     | 634kB 2.6MB/s eta 0:00:01\r",
      "\u001b[K     |██████████████████████████▉     | 645kB 2.6MB/s eta 0:00:01\r",
      "\u001b[K     |███████████████████████████▎    | 655kB 2.6MB/s eta 0:00:01\r",
      "\u001b[K     |███████████████████████████▊    | 665kB 2.6MB/s eta 0:00:01\r",
      "\u001b[K     |████████████████████████████▏   | 675kB 2.6MB/s eta 0:00:01\r",
      "\u001b[K     |████████████████████████████▌   | 686kB 2.6MB/s eta 0:00:01\r",
      "\u001b[K     |█████████████████████████████   | 696kB 2.6MB/s eta 0:00:01\r",
      "\u001b[K     |█████████████████████████████▍  | 706kB 2.6MB/s eta 0:00:01\r",
      "\u001b[K     |█████████████████████████████▉  | 716kB 2.6MB/s eta 0:00:01\r",
      "\u001b[K     |██████████████████████████████▎ | 727kB 2.6MB/s eta 0:00:01\r",
      "\u001b[K     |██████████████████████████████▊ | 737kB 2.6MB/s eta 0:00:01\r",
      "\u001b[K     |███████████████████████████████ | 747kB 2.6MB/s eta 0:00:01\r",
      "\u001b[K     |███████████████████████████████▌| 757kB 2.6MB/s eta 0:00:01\r",
      "\u001b[K     |████████████████████████████████| 768kB 2.6MB/s eta 0:00:01\r",
      "\u001b[K     |████████████████████████████████| 778kB 2.6MB/s \n",
      "\u001b[?25hRequirement already satisfied: numpy in /usr/local/lib/python3.6/dist-packages (from transformers) (1.18.5)\n",
      "Requirement already satisfied: dataclasses; python_version < \"3.7\" in /usr/local/lib/python3.6/dist-packages (from transformers) (0.7)\n",
      "Collecting tokenizers==0.8.1.rc1\n",
      "\u001b[?25l  Downloading https://files.pythonhosted.org/packages/40/d0/30d5f8d221a0ed981a186c8eb986ce1c94e3a6e87f994eae9f4aa5250217/tokenizers-0.8.1rc1-cp36-cp36m-manylinux1_x86_64.whl (3.0MB)\n",
      "\u001b[K     |████████████████████████████████| 3.0MB 12.7MB/s \n",
      "\u001b[?25hRequirement already satisfied: requests in /usr/local/lib/python3.6/dist-packages (from transformers) (2.23.0)\n",
      "Collecting sentencepiece!=0.1.92\n",
      "\u001b[?25l  Downloading https://files.pythonhosted.org/packages/d4/a4/d0a884c4300004a78cca907a6ff9a5e9fe4f090f5d95ab341c53d28cbc58/sentencepiece-0.1.91-cp36-cp36m-manylinux1_x86_64.whl (1.1MB)\n",
      "\u001b[K     |████████████████████████████████| 1.1MB 36.0MB/s \n",
      "\u001b[?25hCollecting sacremoses\n",
      "\u001b[?25l  Downloading https://files.pythonhosted.org/packages/7d/34/09d19aff26edcc8eb2a01bed8e98f13a1537005d31e95233fd48216eed10/sacremoses-0.0.43.tar.gz (883kB)\n",
      "\u001b[K     |████████████████████████████████| 890kB 36.4MB/s \n",
      "\u001b[?25hRequirement already satisfied: filelock in /usr/local/lib/python3.6/dist-packages (from transformers) (3.0.12)\n",
      "Requirement already satisfied: tqdm>=4.27 in /usr/local/lib/python3.6/dist-packages (from transformers) (4.41.1)\n",
      "Requirement already satisfied: packaging in /usr/local/lib/python3.6/dist-packages (from transformers) (20.4)\n",
      "Requirement already satisfied: regex!=2019.12.17 in /usr/local/lib/python3.6/dist-packages (from transformers) (2019.12.20)\n",
      "Requirement already satisfied: urllib3!=1.25.0,!=1.25.1,<1.26,>=1.21.1 in /usr/local/lib/python3.6/dist-packages (from requests->transformers) (1.24.3)\n",
      "Requirement already satisfied: certifi>=2017.4.17 in /usr/local/lib/python3.6/dist-packages (from requests->transformers) (2020.6.20)\n",
      "Requirement already satisfied: idna<3,>=2.5 in /usr/local/lib/python3.6/dist-packages (from requests->transformers) (2.10)\n",
      "Requirement already satisfied: chardet<4,>=3.0.2 in /usr/local/lib/python3.6/dist-packages (from requests->transformers) (3.0.4)\n",
      "Requirement already satisfied: six in /usr/local/lib/python3.6/dist-packages (from sacremoses->transformers) (1.15.0)\n",
      "Requirement already satisfied: click in /usr/local/lib/python3.6/dist-packages (from sacremoses->transformers) (7.1.2)\n",
      "Requirement already satisfied: joblib in /usr/local/lib/python3.6/dist-packages (from sacremoses->transformers) (0.16.0)\n",
      "Requirement already satisfied: pyparsing>=2.0.2 in /usr/local/lib/python3.6/dist-packages (from packaging->transformers) (2.4.7)\n",
      "Building wheels for collected packages: sacremoses\n",
      "  Building wheel for sacremoses (setup.py) ... \u001b[?25l\u001b[?25hdone\n",
      "  Created wheel for sacremoses: filename=sacremoses-0.0.43-cp36-none-any.whl size=893260 sha256=4a97e5e4901f1f42b12d038fa0676f1020afcd9a9d0527904489f1abe68f1063\n",
      "  Stored in directory: /root/.cache/pip/wheels/29/3c/fd/7ce5c3f0666dab31a50123635e6fb5e19ceb42ce38d4e58f45\n",
      "Successfully built sacremoses\n",
      "Installing collected packages: tokenizers, sentencepiece, sacremoses, transformers\n",
      "Successfully installed sacremoses-0.0.43 sentencepiece-0.1.91 tokenizers-0.8.1rc1 transformers-3.0.2\n"
     ]
    }
   ],
   "source": [
    "! pip install transformers"
   ]
  },
  {
   "cell_type": "markdown",
   "metadata": {
    "colab_type": "text",
    "id": "cHRQT8bjCAHk"
   },
   "source": [
    "## BERT Hugging Face"
   ]
  },
  {
   "cell_type": "code",
   "execution_count": 8,
   "metadata": {
    "colab": {},
    "colab_type": "code",
    "id": "xK_fOBxgB2bh"
   },
   "outputs": [],
   "source": [
    "from transformers import AutoTokenizer, pipeline, TFDistilBertModel\n",
    "from tqdm import tqdm"
   ]
  },
  {
   "cell_type": "code",
   "execution_count": null,
   "metadata": {
    "colab": {},
    "colab_type": "code",
    "id": "qfyhrHf0E0bg"
   },
   "outputs": [],
   "source": [
    "title=data_main_clean_v4['Cleaned_Title'].values"
   ]
  },
  {
   "cell_type": "code",
   "execution_count": 9,
   "metadata": {
    "colab": {},
    "colab_type": "code",
    "id": "aUuzMZuoFyTn"
   },
   "outputs": [],
   "source": [
    "title_list=list(title)"
   ]
  },
  {
   "cell_type": "code",
   "execution_count": 10,
   "metadata": {
    "colab": {
     "base_uri": "https://localhost:8080/",
     "height": 267,
     "referenced_widgets": [
      "4e034c453e49432d986f0f42b2bed94a",
      "8d55b508cf824e6380195bbb9abf38e3",
      "50d84130ac8d40c9973ae21e115a7159",
      "0f20b26b306045e180dc3541d2fb6fd2",
      "22fa16956c99447cad56e96b7a1572fb",
      "a743cac4d3994f2fbf70194fef819050",
      "f915f7cebdee45339b7be2c22661caa6",
      "ebdc40f8852c454d92a7ed7ccfce938e",
      "76d2c6f41a09480da9d94e17578910f1",
      "88c27ad088634459a5bbd01ef368844c",
      "4552a89e70c9488f8c8db4a22a334098",
      "82c3b60a25264a3a8b02010871609a6b",
      "0c063b02d664447f8c235168f902b696",
      "9f63e1e614f84dfaa5f2831125f65989",
      "c7a85272db0e46a680eb7c5de46215c9",
      "3e8a290be774453fbb633fbf2545643a",
      "24b3b330668045e3b9a740d5cb59004d",
      "d31cf8de092241469a1ffb2c19bbb9f1",
      "41940645dcbc4a95ad9e615049ad5dab",
      "cdcc368288c34e76ac199ca01f6e30ba",
      "c8bd4e9695854e1999b74ab54b964247",
      "c59df264b8c0416ca6c628ce341cfc9e",
      "927fd0bc9c6e40f2874849647af65e20",
      "45e8fe9328214187a9a1c82adb1490c4"
     ]
    },
    "colab_type": "code",
    "id": "Z1OBCkCbB2eP",
    "outputId": "15bedf5a-356c-4d43-90c2-88bb43b6639f"
   },
   "outputs": [
    {
     "data": {
      "application/vnd.jupyter.widget-view+json": {
       "model_id": "4e034c453e49432d986f0f42b2bed94a",
       "version_major": 2,
       "version_minor": 0
      },
      "text/plain": [
       "HBox(children=(FloatProgress(value=0.0, description='Downloading', max=442.0, style=ProgressStyle(description_…"
      ]
     },
     "metadata": {
      "tags": []
     },
     "output_type": "display_data"
    },
    {
     "name": "stdout",
     "output_type": "stream",
     "text": [
      "\n"
     ]
    },
    {
     "data": {
      "application/vnd.jupyter.widget-view+json": {
       "model_id": "76d2c6f41a09480da9d94e17578910f1",
       "version_major": 2,
       "version_minor": 0
      },
      "text/plain": [
       "HBox(children=(FloatProgress(value=0.0, description='Downloading', max=363423424.0, style=ProgressStyle(descri…"
      ]
     },
     "metadata": {
      "tags": []
     },
     "output_type": "display_data"
    },
    {
     "name": "stdout",
     "output_type": "stream",
     "text": [
      "\n"
     ]
    },
    {
     "name": "stderr",
     "output_type": "stream",
     "text": [
      "Some weights of the model checkpoint at distilbert-base-uncased were not used when initializing TFDistilBertModel: ['vocab_projector', 'vocab_layer_norm', 'vocab_transform', 'activation_13']\n",
      "- This IS expected if you are initializing TFDistilBertModel from the checkpoint of a model trained on another task or with another architecture (e.g. initializing a BertForSequenceClassification model from a BertForPretraining model).\n",
      "- This IS NOT expected if you are initializing TFDistilBertModel from the checkpoint of a model that you expect to be exactly identical (initializing a BertForSequenceClassification model from a BertForSequenceClassification model).\n",
      "All the weights of TFDistilBertModel were initialized from the model checkpoint at distilbert-base-uncased.\n",
      "If your task is similar to the task the model of the ckeckpoint was trained on, you can already use TFDistilBertModel for predictions without further training.\n"
     ]
    },
    {
     "data": {
      "application/vnd.jupyter.widget-view+json": {
       "model_id": "24b3b330668045e3b9a740d5cb59004d",
       "version_major": 2,
       "version_minor": 0
      },
      "text/plain": [
       "HBox(children=(FloatProgress(value=0.0, description='Downloading', max=231508.0, style=ProgressStyle(descripti…"
      ]
     },
     "metadata": {
      "tags": []
     },
     "output_type": "display_data"
    },
    {
     "name": "stdout",
     "output_type": "stream",
     "text": [
      "\n"
     ]
    }
   ],
   "source": [
    "#Using the pretained 'distilbert-base-uncased' model and saving in model\n",
    "model = TFDistilBertModel.from_pretrained('distilbert-base-uncased')\n",
    "\n",
    "#Tokenizing the pretrained model and storing in tokenizer\n",
    "tokenizer = AutoTokenizer.from_pretrained('distilbert-base-uncased')\n",
    "\n",
    "#Creating a pipeline from the defined model and tokenizer for our data\n",
    "pipe = pipeline('feature-extraction', model=model, tokenizer=tokenizer)"
   ]
  },
  {
   "cell_type": "code",
   "execution_count": null,
   "metadata": {
    "colab": {},
    "colab_type": "code",
    "id": "i81n94S6MkXQ"
   },
   "outputs": [],
   "source": [
    "#Using the defined pipeline to convert our data into features and considering one 768 dimension vecotor for each datapoint\n",
    "features = pipe(title_list)\n",
    "features = np.squeeze(features)\n",
    "features = features[:,0,:]"
   ]
  },
  {
   "cell_type": "code",
   "execution_count": null,
   "metadata": {
    "colab": {},
    "colab_type": "code",
    "id": "MXjBu9ToF6IW"
   },
   "outputs": [],
   "source": [
    "#Converting list to numpy array\n",
    "features1=np.array(features)"
   ]
  },
  {
   "cell_type": "code",
   "execution_count": 19,
   "metadata": {
    "colab": {
     "base_uri": "https://localhost:8080/",
     "height": 34
    },
    "colab_type": "code",
    "id": "UEUtRYYcF6Ng",
    "outputId": "d2cbc04d-6d0f-4f50-d089-d05c6f3d5e0d"
   },
   "outputs": [
    {
     "name": "stdout",
     "output_type": "stream",
     "text": [
      "(1396270,768)\n"
     ]
    }
   ],
   "source": [
    "features1.shape"
   ]
  },
  {
   "cell_type": "code",
   "execution_count": null,
   "metadata": {
    "colab": {},
    "colab_type": "code",
    "id": "4KCE1cJCN5CQ"
   },
   "outputs": [],
   "source": [
    "a1=features1"
   ]
  },
  {
   "cell_type": "code",
   "execution_count": null,
   "metadata": {
    "colab": {},
    "colab_type": "code",
    "id": "1Z3rqIqQNEaR"
   },
   "outputs": [],
   "source": [
    "def Recomend(string):\n",
    "  stopwords_1 = stopwords.words(\"english\")\n",
    "  a=string\n",
    "  sent_1=a.lower().strip()\n",
    "  sent_1 = re.sub(r\"won\\'t\", \"will not\", sent_1)\n",
    "  sent_1 = re.sub(r\"can\\'t\", \"can not\", sent_1)\n",
    "  sent_1 = re.sub(r\"n\\'t\", \" not\", sent_1)\n",
    "  sent_1 = re.sub(r\"\\'re\", \" are\", sent_1)\n",
    "  sent_1 = re.sub(r\"\\'s\", \" is\", sent_1)\n",
    "  sent_1 = re.sub(r\"\\'d\", \" would\", sent_1)\n",
    "  sent_1 = re.sub(r\"\\'ll\", \" will\", sent_1)\n",
    "  sent_1 = re.sub(r\"\\'t\", \" not\", sent_1)\n",
    "  sent_1 = re.sub(r\"\\'ve\", \" have\", sent_1)\n",
    "  sent_1 = re.sub(r\"\\'m\", \" am\", sent_1)\n",
    "  sent_1 = re.sub('[^A-Za-z0-9-+]+', ' ', sent_1)\n",
    "  sent_1 = ' '.join(e for e in sent_1.split() if e not in stopwords_1)\n",
    "\n",
    "  sent_1=sent_1.lower().strip()\n",
    "  print('QUERY ENTERED BY THE USER')\n",
    "  print(sent_1)\n",
    "  print('\\n')\n",
    "\n",
    "  query=a1[0]\n",
    "  distance = pairwise_distances(a1, query.reshape(1,-1),metric='cosine')\n",
    "  indices = np.argsort(distance.flatten())[0:10]\n",
    "  pdists = np.sort(distance.flatten())[0:10]\n",
    "\n",
    "  print('RECOMENDED SIMILAR QUESTIONS')\n",
    "  g=0\n",
    "  for i in indices:\n",
    "    g=g+1\n",
    "    print(g ,'th question','\"',data_main_clean_v4['Cleaned_Title'][i],'\"')\n",
    "    print(g ,'th question distance is ',round((float(distance[i])),4))\n",
    "    print('\\n')"
   ]
  },
  {
   "cell_type": "code",
   "execution_count": 29,
   "metadata": {
    "colab": {
     "base_uri": "https://localhost:8080/",
     "height": 638
    },
    "colab_type": "code",
    "id": "H4bVAH96PFLQ",
    "outputId": "7b3c1cd1-5378-4494-b893-a1614175f0ef"
   },
   "outputs": [
    {
     "name": "stdout",
     "output_type": "stream",
     "text": [
      "QUERY ENTERED BY THE USER\n",
      "implementing boundary value analysis software testing c++ program\n",
      "\n",
      "RECOMENDED SIMILAR QUESTIONS\n",
      "1 th question ' implementing boundary value analysis software testing c++ program '\n",
      "1 th question distance is 0.0\n",
      "\n",
      "2 th question ' implementing data structures algorithms c++ '\n",
      "2 th question distance is 0.4653\n",
      "\n",
      "3 th question ' boundary value analysis c++ cppunit '\n",
      "3 th question distance is 0.472\n",
      "\n",
      "4 th question ' code metrics analysis unmanaged c++ code '\n",
      "4 th question distance is 0.4922\n",
      "\n",
      "5 th question ' c++ code profiling analysis mac mpi '\n",
      "5 th question distance is 0.5023\n",
      "\n",
      "6 th question ' calculating critical path dag c++ '\n",
      "6 th question distance is 0.5064\n",
      "\n",
      "7 th question ' methods implementing using graphs nodes c++ '\n",
      "7 th question distance is 0.5136\n",
      "\n",
      "8 th question ' complex data structures embedding extending python c++'\n",
      "8 th question distance is 0.5187\n",
      "\n",
      "9 th question ' obfuscate c++ variables functions '\n",
      "9 th question distance is 0.5244\n",
      "\n",
      "10 th question ' c++ static global non-pod theory practice '\n",
      "10 th question distance is 0.5245\n",
      "\n",
      "TIME TAKEN TO FETCH RESULTS\n",
      "4.870607376098633 seconds\n",
      "\n"
     ]
    }
   ],
   "source": [
    "import time\n",
    "start_time = time.time()\n",
    "Recomend('implementing boundary value analysis software testing c++ program')\n",
    "print('TIME TAKEN TO FETCH RESULTS')\n",
    "print(time.time()-start_time,'seconds')"
   ]
  }
 ],
 "metadata": {
  "accelerator": "GPU",
  "colab": {
   "collapsed_sections": [],
   "name": "Hugging Face Stack Overflow.ipynb",
   "provenance": []
  },
  "kernelspec": {
   "display_name": "Python 3",
   "language": "python",
   "name": "python3"
  },
  "language_info": {
   "codemirror_mode": {
    "name": "ipython",
    "version": 3
   },
   "file_extension": ".py",
   "mimetype": "text/x-python",
   "name": "python",
   "nbconvert_exporter": "python",
   "pygments_lexer": "ipython3",
   "version": "3.7.6"
  },
  "widgets": {
   "application/vnd.jupyter.widget-state+json": {
    "0c063b02d664447f8c235168f902b696": {
     "model_module": "@jupyter-widgets/controls",
     "model_name": "ProgressStyleModel",
     "state": {
      "_model_module": "@jupyter-widgets/controls",
      "_model_module_version": "1.5.0",
      "_model_name": "ProgressStyleModel",
      "_view_count": null,
      "_view_module": "@jupyter-widgets/base",
      "_view_module_version": "1.2.0",
      "_view_name": "StyleView",
      "bar_color": null,
      "description_width": "initial"
     }
    },
    "0f20b26b306045e180dc3541d2fb6fd2": {
     "model_module": "@jupyter-widgets/controls",
     "model_name": "HTMLModel",
     "state": {
      "_dom_classes": [],
      "_model_module": "@jupyter-widgets/controls",
      "_model_module_version": "1.5.0",
      "_model_name": "HTMLModel",
      "_view_count": null,
      "_view_module": "@jupyter-widgets/controls",
      "_view_module_version": "1.5.0",
      "_view_name": "HTMLView",
      "description": "",
      "description_tooltip": null,
      "layout": "IPY_MODEL_ebdc40f8852c454d92a7ed7ccfce938e",
      "placeholder": "​",
      "style": "IPY_MODEL_f915f7cebdee45339b7be2c22661caa6",
      "value": " 442/442 [00:21&lt;00:00, 20.3B/s]"
     }
    },
    "22fa16956c99447cad56e96b7a1572fb": {
     "model_module": "@jupyter-widgets/controls",
     "model_name": "ProgressStyleModel",
     "state": {
      "_model_module": "@jupyter-widgets/controls",
      "_model_module_version": "1.5.0",
      "_model_name": "ProgressStyleModel",
      "_view_count": null,
      "_view_module": "@jupyter-widgets/base",
      "_view_module_version": "1.2.0",
      "_view_name": "StyleView",
      "bar_color": null,
      "description_width": "initial"
     }
    },
    "24b3b330668045e3b9a740d5cb59004d": {
     "model_module": "@jupyter-widgets/controls",
     "model_name": "HBoxModel",
     "state": {
      "_dom_classes": [],
      "_model_module": "@jupyter-widgets/controls",
      "_model_module_version": "1.5.0",
      "_model_name": "HBoxModel",
      "_view_count": null,
      "_view_module": "@jupyter-widgets/controls",
      "_view_module_version": "1.5.0",
      "_view_name": "HBoxView",
      "box_style": "",
      "children": [
       "IPY_MODEL_41940645dcbc4a95ad9e615049ad5dab",
       "IPY_MODEL_cdcc368288c34e76ac199ca01f6e30ba"
      ],
      "layout": "IPY_MODEL_d31cf8de092241469a1ffb2c19bbb9f1"
     }
    },
    "3e8a290be774453fbb633fbf2545643a": {
     "model_module": "@jupyter-widgets/base",
     "model_name": "LayoutModel",
     "state": {
      "_model_module": "@jupyter-widgets/base",
      "_model_module_version": "1.2.0",
      "_model_name": "LayoutModel",
      "_view_count": null,
      "_view_module": "@jupyter-widgets/base",
      "_view_module_version": "1.2.0",
      "_view_name": "LayoutView",
      "align_content": null,
      "align_items": null,
      "align_self": null,
      "border": null,
      "bottom": null,
      "display": null,
      "flex": null,
      "flex_flow": null,
      "grid_area": null,
      "grid_auto_columns": null,
      "grid_auto_flow": null,
      "grid_auto_rows": null,
      "grid_column": null,
      "grid_gap": null,
      "grid_row": null,
      "grid_template_areas": null,
      "grid_template_columns": null,
      "grid_template_rows": null,
      "height": null,
      "justify_content": null,
      "justify_items": null,
      "left": null,
      "margin": null,
      "max_height": null,
      "max_width": null,
      "min_height": null,
      "min_width": null,
      "object_fit": null,
      "object_position": null,
      "order": null,
      "overflow": null,
      "overflow_x": null,
      "overflow_y": null,
      "padding": null,
      "right": null,
      "top": null,
      "visibility": null,
      "width": null
     }
    },
    "41940645dcbc4a95ad9e615049ad5dab": {
     "model_module": "@jupyter-widgets/controls",
     "model_name": "FloatProgressModel",
     "state": {
      "_dom_classes": [],
      "_model_module": "@jupyter-widgets/controls",
      "_model_module_version": "1.5.0",
      "_model_name": "FloatProgressModel",
      "_view_count": null,
      "_view_module": "@jupyter-widgets/controls",
      "_view_module_version": "1.5.0",
      "_view_name": "ProgressView",
      "bar_style": "success",
      "description": "Downloading: 100%",
      "description_tooltip": null,
      "layout": "IPY_MODEL_c59df264b8c0416ca6c628ce341cfc9e",
      "max": 231508,
      "min": 0,
      "orientation": "horizontal",
      "style": "IPY_MODEL_c8bd4e9695854e1999b74ab54b964247",
      "value": 231508
     }
    },
    "4552a89e70c9488f8c8db4a22a334098": {
     "model_module": "@jupyter-widgets/controls",
     "model_name": "FloatProgressModel",
     "state": {
      "_dom_classes": [],
      "_model_module": "@jupyter-widgets/controls",
      "_model_module_version": "1.5.0",
      "_model_name": "FloatProgressModel",
      "_view_count": null,
      "_view_module": "@jupyter-widgets/controls",
      "_view_module_version": "1.5.0",
      "_view_name": "ProgressView",
      "bar_style": "success",
      "description": "Downloading: 100%",
      "description_tooltip": null,
      "layout": "IPY_MODEL_9f63e1e614f84dfaa5f2831125f65989",
      "max": 363423424,
      "min": 0,
      "orientation": "horizontal",
      "style": "IPY_MODEL_0c063b02d664447f8c235168f902b696",
      "value": 363423424
     }
    },
    "45e8fe9328214187a9a1c82adb1490c4": {
     "model_module": "@jupyter-widgets/base",
     "model_name": "LayoutModel",
     "state": {
      "_model_module": "@jupyter-widgets/base",
      "_model_module_version": "1.2.0",
      "_model_name": "LayoutModel",
      "_view_count": null,
      "_view_module": "@jupyter-widgets/base",
      "_view_module_version": "1.2.0",
      "_view_name": "LayoutView",
      "align_content": null,
      "align_items": null,
      "align_self": null,
      "border": null,
      "bottom": null,
      "display": null,
      "flex": null,
      "flex_flow": null,
      "grid_area": null,
      "grid_auto_columns": null,
      "grid_auto_flow": null,
      "grid_auto_rows": null,
      "grid_column": null,
      "grid_gap": null,
      "grid_row": null,
      "grid_template_areas": null,
      "grid_template_columns": null,
      "grid_template_rows": null,
      "height": null,
      "justify_content": null,
      "justify_items": null,
      "left": null,
      "margin": null,
      "max_height": null,
      "max_width": null,
      "min_height": null,
      "min_width": null,
      "object_fit": null,
      "object_position": null,
      "order": null,
      "overflow": null,
      "overflow_x": null,
      "overflow_y": null,
      "padding": null,
      "right": null,
      "top": null,
      "visibility": null,
      "width": null
     }
    },
    "4e034c453e49432d986f0f42b2bed94a": {
     "model_module": "@jupyter-widgets/controls",
     "model_name": "HBoxModel",
     "state": {
      "_dom_classes": [],
      "_model_module": "@jupyter-widgets/controls",
      "_model_module_version": "1.5.0",
      "_model_name": "HBoxModel",
      "_view_count": null,
      "_view_module": "@jupyter-widgets/controls",
      "_view_module_version": "1.5.0",
      "_view_name": "HBoxView",
      "box_style": "",
      "children": [
       "IPY_MODEL_50d84130ac8d40c9973ae21e115a7159",
       "IPY_MODEL_0f20b26b306045e180dc3541d2fb6fd2"
      ],
      "layout": "IPY_MODEL_8d55b508cf824e6380195bbb9abf38e3"
     }
    },
    "50d84130ac8d40c9973ae21e115a7159": {
     "model_module": "@jupyter-widgets/controls",
     "model_name": "FloatProgressModel",
     "state": {
      "_dom_classes": [],
      "_model_module": "@jupyter-widgets/controls",
      "_model_module_version": "1.5.0",
      "_model_name": "FloatProgressModel",
      "_view_count": null,
      "_view_module": "@jupyter-widgets/controls",
      "_view_module_version": "1.5.0",
      "_view_name": "ProgressView",
      "bar_style": "success",
      "description": "Downloading: 100%",
      "description_tooltip": null,
      "layout": "IPY_MODEL_a743cac4d3994f2fbf70194fef819050",
      "max": 442,
      "min": 0,
      "orientation": "horizontal",
      "style": "IPY_MODEL_22fa16956c99447cad56e96b7a1572fb",
      "value": 442
     }
    },
    "76d2c6f41a09480da9d94e17578910f1": {
     "model_module": "@jupyter-widgets/controls",
     "model_name": "HBoxModel",
     "state": {
      "_dom_classes": [],
      "_model_module": "@jupyter-widgets/controls",
      "_model_module_version": "1.5.0",
      "_model_name": "HBoxModel",
      "_view_count": null,
      "_view_module": "@jupyter-widgets/controls",
      "_view_module_version": "1.5.0",
      "_view_name": "HBoxView",
      "box_style": "",
      "children": [
       "IPY_MODEL_4552a89e70c9488f8c8db4a22a334098",
       "IPY_MODEL_82c3b60a25264a3a8b02010871609a6b"
      ],
      "layout": "IPY_MODEL_88c27ad088634459a5bbd01ef368844c"
     }
    },
    "82c3b60a25264a3a8b02010871609a6b": {
     "model_module": "@jupyter-widgets/controls",
     "model_name": "HTMLModel",
     "state": {
      "_dom_classes": [],
      "_model_module": "@jupyter-widgets/controls",
      "_model_module_version": "1.5.0",
      "_model_name": "HTMLModel",
      "_view_count": null,
      "_view_module": "@jupyter-widgets/controls",
      "_view_module_version": "1.5.0",
      "_view_name": "HTMLView",
      "description": "",
      "description_tooltip": null,
      "layout": "IPY_MODEL_3e8a290be774453fbb633fbf2545643a",
      "placeholder": "​",
      "style": "IPY_MODEL_c7a85272db0e46a680eb7c5de46215c9",
      "value": " 363M/363M [00:08&lt;00:00, 45.0MB/s]"
     }
    },
    "88c27ad088634459a5bbd01ef368844c": {
     "model_module": "@jupyter-widgets/base",
     "model_name": "LayoutModel",
     "state": {
      "_model_module": "@jupyter-widgets/base",
      "_model_module_version": "1.2.0",
      "_model_name": "LayoutModel",
      "_view_count": null,
      "_view_module": "@jupyter-widgets/base",
      "_view_module_version": "1.2.0",
      "_view_name": "LayoutView",
      "align_content": null,
      "align_items": null,
      "align_self": null,
      "border": null,
      "bottom": null,
      "display": null,
      "flex": null,
      "flex_flow": null,
      "grid_area": null,
      "grid_auto_columns": null,
      "grid_auto_flow": null,
      "grid_auto_rows": null,
      "grid_column": null,
      "grid_gap": null,
      "grid_row": null,
      "grid_template_areas": null,
      "grid_template_columns": null,
      "grid_template_rows": null,
      "height": null,
      "justify_content": null,
      "justify_items": null,
      "left": null,
      "margin": null,
      "max_height": null,
      "max_width": null,
      "min_height": null,
      "min_width": null,
      "object_fit": null,
      "object_position": null,
      "order": null,
      "overflow": null,
      "overflow_x": null,
      "overflow_y": null,
      "padding": null,
      "right": null,
      "top": null,
      "visibility": null,
      "width": null
     }
    },
    "8d55b508cf824e6380195bbb9abf38e3": {
     "model_module": "@jupyter-widgets/base",
     "model_name": "LayoutModel",
     "state": {
      "_model_module": "@jupyter-widgets/base",
      "_model_module_version": "1.2.0",
      "_model_name": "LayoutModel",
      "_view_count": null,
      "_view_module": "@jupyter-widgets/base",
      "_view_module_version": "1.2.0",
      "_view_name": "LayoutView",
      "align_content": null,
      "align_items": null,
      "align_self": null,
      "border": null,
      "bottom": null,
      "display": null,
      "flex": null,
      "flex_flow": null,
      "grid_area": null,
      "grid_auto_columns": null,
      "grid_auto_flow": null,
      "grid_auto_rows": null,
      "grid_column": null,
      "grid_gap": null,
      "grid_row": null,
      "grid_template_areas": null,
      "grid_template_columns": null,
      "grid_template_rows": null,
      "height": null,
      "justify_content": null,
      "justify_items": null,
      "left": null,
      "margin": null,
      "max_height": null,
      "max_width": null,
      "min_height": null,
      "min_width": null,
      "object_fit": null,
      "object_position": null,
      "order": null,
      "overflow": null,
      "overflow_x": null,
      "overflow_y": null,
      "padding": null,
      "right": null,
      "top": null,
      "visibility": null,
      "width": null
     }
    },
    "927fd0bc9c6e40f2874849647af65e20": {
     "model_module": "@jupyter-widgets/controls",
     "model_name": "DescriptionStyleModel",
     "state": {
      "_model_module": "@jupyter-widgets/controls",
      "_model_module_version": "1.5.0",
      "_model_name": "DescriptionStyleModel",
      "_view_count": null,
      "_view_module": "@jupyter-widgets/base",
      "_view_module_version": "1.2.0",
      "_view_name": "StyleView",
      "description_width": ""
     }
    },
    "9f63e1e614f84dfaa5f2831125f65989": {
     "model_module": "@jupyter-widgets/base",
     "model_name": "LayoutModel",
     "state": {
      "_model_module": "@jupyter-widgets/base",
      "_model_module_version": "1.2.0",
      "_model_name": "LayoutModel",
      "_view_count": null,
      "_view_module": "@jupyter-widgets/base",
      "_view_module_version": "1.2.0",
      "_view_name": "LayoutView",
      "align_content": null,
      "align_items": null,
      "align_self": null,
      "border": null,
      "bottom": null,
      "display": null,
      "flex": null,
      "flex_flow": null,
      "grid_area": null,
      "grid_auto_columns": null,
      "grid_auto_flow": null,
      "grid_auto_rows": null,
      "grid_column": null,
      "grid_gap": null,
      "grid_row": null,
      "grid_template_areas": null,
      "grid_template_columns": null,
      "grid_template_rows": null,
      "height": null,
      "justify_content": null,
      "justify_items": null,
      "left": null,
      "margin": null,
      "max_height": null,
      "max_width": null,
      "min_height": null,
      "min_width": null,
      "object_fit": null,
      "object_position": null,
      "order": null,
      "overflow": null,
      "overflow_x": null,
      "overflow_y": null,
      "padding": null,
      "right": null,
      "top": null,
      "visibility": null,
      "width": null
     }
    },
    "a743cac4d3994f2fbf70194fef819050": {
     "model_module": "@jupyter-widgets/base",
     "model_name": "LayoutModel",
     "state": {
      "_model_module": "@jupyter-widgets/base",
      "_model_module_version": "1.2.0",
      "_model_name": "LayoutModel",
      "_view_count": null,
      "_view_module": "@jupyter-widgets/base",
      "_view_module_version": "1.2.0",
      "_view_name": "LayoutView",
      "align_content": null,
      "align_items": null,
      "align_self": null,
      "border": null,
      "bottom": null,
      "display": null,
      "flex": null,
      "flex_flow": null,
      "grid_area": null,
      "grid_auto_columns": null,
      "grid_auto_flow": null,
      "grid_auto_rows": null,
      "grid_column": null,
      "grid_gap": null,
      "grid_row": null,
      "grid_template_areas": null,
      "grid_template_columns": null,
      "grid_template_rows": null,
      "height": null,
      "justify_content": null,
      "justify_items": null,
      "left": null,
      "margin": null,
      "max_height": null,
      "max_width": null,
      "min_height": null,
      "min_width": null,
      "object_fit": null,
      "object_position": null,
      "order": null,
      "overflow": null,
      "overflow_x": null,
      "overflow_y": null,
      "padding": null,
      "right": null,
      "top": null,
      "visibility": null,
      "width": null
     }
    },
    "c59df264b8c0416ca6c628ce341cfc9e": {
     "model_module": "@jupyter-widgets/base",
     "model_name": "LayoutModel",
     "state": {
      "_model_module": "@jupyter-widgets/base",
      "_model_module_version": "1.2.0",
      "_model_name": "LayoutModel",
      "_view_count": null,
      "_view_module": "@jupyter-widgets/base",
      "_view_module_version": "1.2.0",
      "_view_name": "LayoutView",
      "align_content": null,
      "align_items": null,
      "align_self": null,
      "border": null,
      "bottom": null,
      "display": null,
      "flex": null,
      "flex_flow": null,
      "grid_area": null,
      "grid_auto_columns": null,
      "grid_auto_flow": null,
      "grid_auto_rows": null,
      "grid_column": null,
      "grid_gap": null,
      "grid_row": null,
      "grid_template_areas": null,
      "grid_template_columns": null,
      "grid_template_rows": null,
      "height": null,
      "justify_content": null,
      "justify_items": null,
      "left": null,
      "margin": null,
      "max_height": null,
      "max_width": null,
      "min_height": null,
      "min_width": null,
      "object_fit": null,
      "object_position": null,
      "order": null,
      "overflow": null,
      "overflow_x": null,
      "overflow_y": null,
      "padding": null,
      "right": null,
      "top": null,
      "visibility": null,
      "width": null
     }
    },
    "c7a85272db0e46a680eb7c5de46215c9": {
     "model_module": "@jupyter-widgets/controls",
     "model_name": "DescriptionStyleModel",
     "state": {
      "_model_module": "@jupyter-widgets/controls",
      "_model_module_version": "1.5.0",
      "_model_name": "DescriptionStyleModel",
      "_view_count": null,
      "_view_module": "@jupyter-widgets/base",
      "_view_module_version": "1.2.0",
      "_view_name": "StyleView",
      "description_width": ""
     }
    },
    "c8bd4e9695854e1999b74ab54b964247": {
     "model_module": "@jupyter-widgets/controls",
     "model_name": "ProgressStyleModel",
     "state": {
      "_model_module": "@jupyter-widgets/controls",
      "_model_module_version": "1.5.0",
      "_model_name": "ProgressStyleModel",
      "_view_count": null,
      "_view_module": "@jupyter-widgets/base",
      "_view_module_version": "1.2.0",
      "_view_name": "StyleView",
      "bar_color": null,
      "description_width": "initial"
     }
    },
    "cdcc368288c34e76ac199ca01f6e30ba": {
     "model_module": "@jupyter-widgets/controls",
     "model_name": "HTMLModel",
     "state": {
      "_dom_classes": [],
      "_model_module": "@jupyter-widgets/controls",
      "_model_module_version": "1.5.0",
      "_model_name": "HTMLModel",
      "_view_count": null,
      "_view_module": "@jupyter-widgets/controls",
      "_view_module_version": "1.5.0",
      "_view_name": "HTMLView",
      "description": "",
      "description_tooltip": null,
      "layout": "IPY_MODEL_45e8fe9328214187a9a1c82adb1490c4",
      "placeholder": "​",
      "style": "IPY_MODEL_927fd0bc9c6e40f2874849647af65e20",
      "value": " 232k/232k [00:00&lt;00:00, 296kB/s]"
     }
    },
    "d31cf8de092241469a1ffb2c19bbb9f1": {
     "model_module": "@jupyter-widgets/base",
     "model_name": "LayoutModel",
     "state": {
      "_model_module": "@jupyter-widgets/base",
      "_model_module_version": "1.2.0",
      "_model_name": "LayoutModel",
      "_view_count": null,
      "_view_module": "@jupyter-widgets/base",
      "_view_module_version": "1.2.0",
      "_view_name": "LayoutView",
      "align_content": null,
      "align_items": null,
      "align_self": null,
      "border": null,
      "bottom": null,
      "display": null,
      "flex": null,
      "flex_flow": null,
      "grid_area": null,
      "grid_auto_columns": null,
      "grid_auto_flow": null,
      "grid_auto_rows": null,
      "grid_column": null,
      "grid_gap": null,
      "grid_row": null,
      "grid_template_areas": null,
      "grid_template_columns": null,
      "grid_template_rows": null,
      "height": null,
      "justify_content": null,
      "justify_items": null,
      "left": null,
      "margin": null,
      "max_height": null,
      "max_width": null,
      "min_height": null,
      "min_width": null,
      "object_fit": null,
      "object_position": null,
      "order": null,
      "overflow": null,
      "overflow_x": null,
      "overflow_y": null,
      "padding": null,
      "right": null,
      "top": null,
      "visibility": null,
      "width": null
     }
    },
    "ebdc40f8852c454d92a7ed7ccfce938e": {
     "model_module": "@jupyter-widgets/base",
     "model_name": "LayoutModel",
     "state": {
      "_model_module": "@jupyter-widgets/base",
      "_model_module_version": "1.2.0",
      "_model_name": "LayoutModel",
      "_view_count": null,
      "_view_module": "@jupyter-widgets/base",
      "_view_module_version": "1.2.0",
      "_view_name": "LayoutView",
      "align_content": null,
      "align_items": null,
      "align_self": null,
      "border": null,
      "bottom": null,
      "display": null,
      "flex": null,
      "flex_flow": null,
      "grid_area": null,
      "grid_auto_columns": null,
      "grid_auto_flow": null,
      "grid_auto_rows": null,
      "grid_column": null,
      "grid_gap": null,
      "grid_row": null,
      "grid_template_areas": null,
      "grid_template_columns": null,
      "grid_template_rows": null,
      "height": null,
      "justify_content": null,
      "justify_items": null,
      "left": null,
      "margin": null,
      "max_height": null,
      "max_width": null,
      "min_height": null,
      "min_width": null,
      "object_fit": null,
      "object_position": null,
      "order": null,
      "overflow": null,
      "overflow_x": null,
      "overflow_y": null,
      "padding": null,
      "right": null,
      "top": null,
      "visibility": null,
      "width": null
     }
    },
    "f915f7cebdee45339b7be2c22661caa6": {
     "model_module": "@jupyter-widgets/controls",
     "model_name": "DescriptionStyleModel",
     "state": {
      "_model_module": "@jupyter-widgets/controls",
      "_model_module_version": "1.5.0",
      "_model_name": "DescriptionStyleModel",
      "_view_count": null,
      "_view_module": "@jupyter-widgets/base",
      "_view_module_version": "1.2.0",
      "_view_name": "StyleView",
      "description_width": ""
     }
    }
   }
  }
 },
 "nbformat": 4,
 "nbformat_minor": 1
}
